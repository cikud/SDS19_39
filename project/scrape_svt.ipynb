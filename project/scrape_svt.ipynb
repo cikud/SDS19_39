{
 "cells": [
  {
   "cell_type": "markdown",
   "metadata": {},
   "source": [
    "# Getting data from svt.se\n",
    "The svt.se site does not have a search function and the articles are thus scraped through searching on google"
   ]
  },
  {
   "cell_type": "markdown",
   "metadata": {},
   "source": [
    "### Packages and Connector"
   ]
  },
  {
   "cell_type": "code",
   "execution_count": 21,
   "metadata": {},
   "outputs": [],
   "source": [
    "import pandas as pd\n",
    "import numpy as np\n",
    "import requests, re, time, os\n",
    "import random\n",
    "from tqdm import tqdm   # bar that shows progress of scraping\n",
    "from bs4 import BeautifulSoup"
   ]
  },
  {
   "cell_type": "code",
   "execution_count": 23,
   "metadata": {},
   "outputs": [],
   "source": [
    "class Connector():\n",
    "  def __init__(self,logfile,overwrite_log=False,connector_type='requests',session=False,path2selenium='',n_tries = 5,timeout=30):\n",
    "    \"\"\"This Class implements a method for reliable connection to the internet and monitoring. \n",
    "    It handles simple errors due to connection problems, and logs a range of information for basic quality assessments\n",
    "    \n",
    "    Keyword arguments:\n",
    "    logfile -- path to the logfile\n",
    "    overwrite_log -- bool, defining if logfile should be cleared (rarely the case). \n",
    "    connector_type -- use the 'requests' module or the 'selenium'. Will have different since the selenium webdriver does not have a similar response object when using the get method, and monitoring the behavior cannot be automated in the same way.\n",
    "    session -- requests.session object. For defining custom headers and proxies.\n",
    "    path2selenium -- str, sets the path to the geckodriver needed when using selenium.\n",
    "    n_tries -- int, defines the number of retries the *get* method will try to avoid random connection errors.\n",
    "    timeout -- int, seconds the get request will wait for the server to respond, again to avoid connection errors.\n",
    "    \"\"\"\n",
    "    \n",
    "    ## Initialization function defining parameters. \n",
    "    self.n_tries = n_tries # For avoiding triviel error e.g. connection errors, this defines how many times it will retry.\n",
    "    self.timeout = timeout # Defining the maximum time to wait for a server to response.\n",
    "    ## not implemented here, if you use selenium.\n",
    "    if connector_type=='selenium':\n",
    "      assert path2selenium!='', \"You need to specify the path to you geckodriver if you want to use Selenium\"\n",
    "      from selenium import webdriver \n",
    "      ## HIN download the latest geckodriver here: https://github.com/mozilla/geckodriver/releases\n",
    "\n",
    "      assert os.path.isfile(path2selenium),'You need to insert a valid path2selenium the path to your geckodriver. You can download the latest geckodriver here: https://github.com/mozilla/geckodriver/releases'\n",
    "      self.browser = webdriver.Firefox(executable_path=path2selenium) # start the browser with a path to the geckodriver.\n",
    "\n",
    "    self.connector_type = connector_type # set the connector_type\n",
    "    \n",
    "    if session: # set the custom session\n",
    "      self.session = session\n",
    "    else:\n",
    "      self.session = requests.session()\n",
    "    self.logfilename = logfile # set the logfile path\n",
    "    ## define header for the logfile\n",
    "    header = ['id','project','connector_type','t', 'delta_t', 'url', 'redirect_url','response_size', 'response_code','success','error']\n",
    "    if os.path.isfile(logfile):        \n",
    "      if overwrite_log==True:\n",
    "        self.log = open(logfile,'w')\n",
    "        self.log.write(';'.join(header))\n",
    "      else:\n",
    "        self.log = open(logfile,'a')\n",
    "    else:\n",
    "      self.log = open(logfile,'w')\n",
    "      self.log.write(';'.join(header))\n",
    "    ## load log \n",
    "    with open(logfile,'r') as f: # open file\n",
    "        \n",
    "      l = f.read().split('\\n') # read and split file by newlines.\n",
    "      ## set id\n",
    "      if len(l)<=1:\n",
    "        self.id = 0\n",
    "      else:\n",
    "        self.id = int(l[-1][0])+1\n",
    "            \n",
    "  def get(self,url,project_name):\n",
    "    \"\"\"Method for connector reliably to the internet, with multiple tries and simple error handling, as well as default logging function.\n",
    "    Input url and the project name for the log (i.e. is it part of mapping the domain, or is it the part of the final stage in the data collection).\n",
    "    \n",
    "    Keyword arguments:\n",
    "    url -- str, url\n",
    "    project_name -- str, Name used for analyzing the log. Use case could be the 'Mapping of domain','Meta_data_collection','main data collection'. \n",
    "    \"\"\"\n",
    "     \n",
    "    project_name = project_name.replace(';','-') # make sure the default csv seperator is not in the project_name.\n",
    "    if self.connector_type=='requests': # Determine connector method.\n",
    "      for _ in range(self.n_tries): # for loop defining number of retries with the requests method.\n",
    "        ratelimit()\n",
    "        t = time.time()\n",
    "        try: # error handling \n",
    "          response = self.session.get(url,timeout = self.timeout) # make get call\n",
    "\n",
    "          err = '' # define python error variable as empty assumming success.\n",
    "          success = True # define success variable\n",
    "          redirect_url = response.url # log current url, after potential redirects \n",
    "          dt = t - time.time() # define delta-time waiting for the server and downloading content.\n",
    "          size = len(response.text) # define variable for size of html content of the response.\n",
    "          response_code = response.status_code # log status code.\n",
    "          ## log...\n",
    "          call_id = self.id # get current unique identifier for the call\n",
    "          self.id+=1 # increment call id\n",
    "          #['id','project_name','connector_type','t', 'delta_t', 'url', 'redirect_url','response_size', 'response_code','success','error']\n",
    "          row = [call_id,project_name,self.connector_type,t,dt,url,redirect_url,size,response_code,success,err] # define row to be written in the log.\n",
    "          self.log.write('\\n'+';'.join(map(str,row))) # write log.\n",
    "          self.log.flush()\n",
    "          return response,call_id # return response and unique identifier.\n",
    "\n",
    "        except Exception as e: # define error condition\n",
    "          err = str(e) # python error\n",
    "          response_code = '' # blank response code \n",
    "          success = False # call success = False\n",
    "          size = 0 # content is empty.\n",
    "          redirect_url = '' # redirect url empty \n",
    "          dt = t - time.time() # define delta t\n",
    "\n",
    "          ## log...\n",
    "          call_id = self.id # define unique identifier\n",
    "          self.id+=1 # increment call_id\n",
    "\n",
    "          row = [call_id,project_name,self.connector_type,t,dt,url,redirect_url,size,response_code,success,err] # define row\n",
    "          self.log.write('\\n'+';'.join(map(str,row))) # write row to log.\n",
    "          self.log.flush()\n",
    "    else:\n",
    "      t = time.time()\n",
    "      ratelimit()\n",
    "      self.browser.get(url) # use selenium get method\n",
    "      ## log\n",
    "      call_id = self.id # define unique identifier for the call. \n",
    "      self.id+=1 # increment the call_id\n",
    "      err = '' # blank error message\n",
    "      success = '' # success blank\n",
    "      redirect_url = self.browser.current_url # redirect url.\n",
    "      dt = t - time.time() # get time for get method ... NOTE: not necessarily the complete load time.\n",
    "      size = len(self.browser.page_source) # get size of content ... NOTE: not necessarily correct, since selenium works in the background, and could still be loading.\n",
    "      response_code = '' # empty response code.\n",
    "      row = [call_id,project_name,self.connector_type,t,dt,url,redirect_url,size,response_code,success,err] # define row \n",
    "      self.log.write('\\n'+';'.join(map(str,row))) # write row to log file.\n",
    "      self.log.flush()\n",
    "    # Using selenium it will not return a response object, instead you should call the browser object of the connector.\n",
    "    ## connector.browser.page_source will give you the html.\n",
    "      return None,call_id"
   ]
  },
  {
   "cell_type": "code",
   "execution_count": 18,
   "metadata": {},
   "outputs": [],
   "source": [
    "from datetime import timedelta, date\n",
    "def daterange(date1, date2):\n",
    "    for n in range(int ((date2 - date1).days)+1):\n",
    "        yield date1 + timedelta(n)\n",
    "#Define the interval for possible scraping articles \n",
    "start_dt = date(2018, 8, 2)\n",
    "end_dt = date(2018, 8, 6)\n",
    "dates=[]\n",
    "for dt in daterange(start_dt, end_dt):\n",
    "    dates.append(dt.strftime(\"%b %d, %Y\"))"
   ]
  },
  {
   "cell_type": "code",
   "execution_count": 20,
   "metadata": {},
   "outputs": [
    {
     "data": {
      "text/plain": [
       "['Aug 02, 2018',\n",
       " 'Aug 03, 2018',\n",
       " 'Aug 04, 2018',\n",
       " 'Aug 05, 2018',\n",
       " 'Aug 06, 2018']"
      ]
     },
     "execution_count": 20,
     "metadata": {},
     "output_type": "execute_result"
    }
   ],
   "source": [
    "dates"
   ]
  },
  {
   "cell_type": "code",
   "execution_count": 25,
   "metadata": {},
   "outputs": [],
   "source": [
    "def ratelimit():\n",
    "    \"this function handles the rate of our calls.\"\n",
    "    time.sleep(0.5)"
   ]
  },
  {
   "cell_type": "markdown",
   "metadata": {},
   "source": [
    "Define connection to the internet"
   ]
  },
  {
   "cell_type": "code",
   "execution_count": 41,
   "metadata": {},
   "outputs": [
    {
     "data": {
      "text/plain": [
       "<Response [200]>"
      ]
     },
     "execution_count": 41,
     "metadata": {},
     "output_type": "execute_result"
    }
   ],
   "source": [
    "connector = Connector('svt_scrape.csv')\n",
    "url = 'https://www.google.com/async/bgasy?ei=pVZeXfiPJOqOrwSxgK7IAw&yv=3&async=_fmt:jspb'\n",
    "response, call_id = connector.get(url, 'svt_call')"
   ]
  },
  {
   "cell_type": "code",
   "execution_count": 43,
   "metadata": {},
   "outputs": [
    {
     "name": "stdout",
     "output_type": "stream",
     "text": [
      "Collecting fake_useragent\n",
      "  Downloading https://files.pythonhosted.org/packages/d1/79/af647635d6968e2deb57a208d309f6069d31cb138066d7e821e575112a80/fake-useragent-0.1.11.tar.gz\n",
      "Building wheels for collected packages: fake-useragent\n",
      "  Running setup.py bdist_wheel for fake-useragent: started\n",
      "  Running setup.py bdist_wheel for fake-useragent: finished with status 'done'\n",
      "  Stored in directory: C:\\Users\\dukic\\AppData\\Local\\pip\\Cache\\wheels\\5e\\63\\09\\d1dc15179f175357d3f5c00cbffbac37f9e8690d80545143ff\n",
      "Successfully built fake-useragent\n",
      "Installing collected packages: fake-useragent\n",
      "Successfully installed fake-useragent-0.1.11\n"
     ]
    }
   ],
   "source": [
    "! pip install fake_useragent"
   ]
  },
  {
   "cell_type": "code",
   "execution_count": 57,
   "metadata": {},
   "outputs": [],
   "source": [
    "import urllib\n",
    "from fake_useragent import UserAgent\n",
    "\n",
    "query = \"'site:svt.se flyktingar'\"     # Key search words\n",
    "query = urllib.parse.quote_plus(query) # Format into URL encoding\n",
    "number_result = 100\n",
    "\n",
    "ua = UserAgent()\n",
    "\n",
    "google_url = \"https://www.google.com/search?q=\" + query + \"&num=\" + str(number_result)\n",
    "response = requests.get(google_url, {\"User-Agent\": ua.random})\n",
    "soup = BeautifulSoup(response.text, \"html.parser\")\n",
    "\n",
    "result_div = soup.find_all('div', attrs = {'class': 'ZINbbc'})\n",
    "\n",
    "links = []\n",
    "titles = []\n",
    "descriptions = []\n",
    "for r in result_div:\n",
    "    # Checks if each element is present, else, raise exception\n",
    "    try:\n",
    "        link = r.find('a', href = True)\n",
    "        title = r.find('div', attrs={'class':'vvjwJb'}).get_text()\n",
    "        description = r.find('div', attrs={'class':'s3v9rd'}).get_text()\n",
    "        \n",
    "        # Check to make sure everything is present before appending\n",
    "        if link != '' and title != '' and description != '': \n",
    "            links.append(link['href'])\n",
    "            titles.append(title)\n",
    "            descriptions.append(description)\n",
    "    # Next loop if one element is not present\n",
    "    except:\n",
    "        continue"
   ]
  },
  {
   "cell_type": "code",
   "execution_count": 58,
   "metadata": {},
   "outputs": [
    {
     "data": {
      "text/plain": [
       "['/url?q=https://www.svt.se/nyheter/utrikes/ny-fn-rapport-rekordmanga-flyktingar-i-varlden&sa=U&ved=2ahUKEwjZn43LmpbkAhUkpIsKHd6SBoIQFjAGegQIBRAB&usg=AOvVaw2f1DFC2m49idhvB5z-9Gkf',\n",
       " '/url?q=https://www.svt.se/nyheter/utrikes/migration-och-flyktingar-dominerar-eu-toppmotet&sa=U&ved=2ahUKEwjZn43LmpbkAhUkpIsKHd6SBoIQFjAHegQIYhAB&usg=AOvVaw3PlY1_x7RbgXe0I7NXs398',\n",
       " '/url?q=https://www.svt.se/nyheter/utrikes/danmark-vill-skicka-flyktingar-som-begar-brott-till-ode-o&sa=U&ved=2ahUKEwjZn43LmpbkAhUkpIsKHd6SBoIQFjAIegQIIxAB&usg=AOvVaw2SfXXtDg0PJpmwpljfPaUb',\n",
       " '/url?q=https://www.svt.se/nyheter/utrikes/venezuelas-kris-jamfors-med-flyktingkrisen-pa-medelhavet&sa=U&ved=2ahUKEwjZn43LmpbkAhUkpIsKHd6SBoIQFjAJegQIYBAB&usg=AOvVaw39uU62z7OiSU955NLTtdL4',\n",
       " '/url?q=https://www.svt.se/nyheter/utrikes/spanien-tar-emot-flyktingarna-italien-nekar&sa=U&ved=2ahUKEwjZn43LmpbkAhUkpIsKHd6SBoIQFjAKegQIXxAB&usg=AOvVaw0RKqlvxcBhMfP8cWatULDq',\n",
       " '/url?q=https://www.svt.se/nyheter/lokalt/vasterbotten/hur-fordelas-flyktingarna-sa-fungerar-bosattningslagen&sa=U&ved=2ahUKEwjZn43LmpbkAhUkpIsKHd6SBoIQFjALegQIXhAB&usg=AOvVaw0E7npDVCVCQSFaqMTs9bdf',\n",
       " '/url?q=https://www.svt.se/nyheter/utrikes/raddningsfartyg-med-64-flyktingar-ombord-nekas-tilltrade-i-hamn&sa=U&ved=2ahUKEwjZn43LmpbkAhUkpIsKHd6SBoIQFjAMegQIRRAB&usg=AOvVaw05SGoWKrihlB1mxkVk9ARq',\n",
       " '/url?q=https://www.svt.se/nyheter/lokalt/orebro/stora-konsekvenser-nar-flyktingar-flyttar-fran-ljusnarsberg&sa=U&ved=2ahUKEwjZn43LmpbkAhUkpIsKHd6SBoIQFjANegQIXBAB&usg=AOvVaw2N5cRFNDb6yAmBBK--mKrG',\n",
       " '/url?q=https://www.svt.se/nyheter/utrikes/tilos-grekiska-on-som-vill-ta-emot-flyktingar&sa=U&ved=2ahUKEwjZn43LmpbkAhUkpIsKHd6SBoIQFjAOegQIWxAB&usg=AOvVaw0oJYsy3ka9ex-RkDV0cRDC',\n",
       " '/url?q=https://www.svt.se/nyheter/lokalt/vasterbotten/kommuner-vill-ta-emot-fler-flyktingar-men-lagen-satter-stopp&sa=U&ved=2ahUKEwjZn43LmpbkAhUkpIsKHd6SBoIQFjAPegQIWhAB&usg=AOvVaw0YFeEVljLY8ueYyEA8kX_3',\n",
       " '/url?q=https://www.svt.se/nyheter/lokalt/blekinge/sd-m-forslaget-lat-ensamkommande-man-bo-i-husvagnar&sa=U&ved=2ahUKEwjZn43LmpbkAhUkpIsKHd6SBoIQFjAQegQIWRAB&usg=AOvVaw24-ePPBunKlvIBFNG_GPN2',\n",
       " '/url?q=https://www.svt.se/nyheter/svtforum/situationen-for-flyktingar-i-varlden&sa=U&ved=2ahUKEwjZn43LmpbkAhUkpIsKHd6SBoIQFjARegQIVBAB&usg=AOvVaw1vfL-5n-y2kv0kqTETKsKd',\n",
       " '/url?q=https://www.svt.se/nyheter/utrikes/hundratals-flyktingar-atervander-till-osakert-libanon&sa=U&ved=2ahUKEwjZn43LmpbkAhUkpIsKHd6SBoIQFjASegQIVRAB&usg=AOvVaw0Es3SeeGxse9uMhVhaRsIE',\n",
       " '/url?q=https://www.svt.se/opinion/tibetexperten-det-menade-dalai-lama-om-flyktingarna-fran-mellanostern&sa=U&ved=2ahUKEwjZn43LmpbkAhUkpIsKHd6SBoIQFjATegQIVxAB&usg=AOvVaw2C4cWRqiGbKTUB4UOE7A1T',\n",
       " '/url?q=https://www.svt.se/nyheter/utrikes/vinterstormar-drabbar-syriska-flyktingar&sa=U&ved=2ahUKEwjZn43LmpbkAhUkpIsKHd6SBoIQFjAUegQIVhAB&usg=AOvVaw2FPk9o4-ykrFf5l6D1AdH4',\n",
       " '/url?q=https://www.svt.se/nyheter/inrikes/macron-tror-inte-pa-eu-kvotering-av-flyktingar&sa=U&ved=2ahUKEwjZn43LmpbkAhUkpIsKHd6SBoIQFjAVegQIWBAB&usg=AOvVaw1EQDxYN_k4DLf_c-7G6_li',\n",
       " '/url?q=https://www.svt.se/nyheter/inrikes/flyktingar-i-sverige-polisanmaler-syriska-regimen-forsta-arendet-i-sitt-slag&sa=U&ved=2ahUKEwjZn43LmpbkAhUkpIsKHd6SBoIQFjAWegQIUxAB&usg=AOvVaw3r5KT3qTcKeDhvcmdiJ4Ww',\n",
       " '/url?q=https://www.svt.se/nyheter/amne/Flyktingar_i_V%25C3%25A4sternorrland&sa=U&ved=2ahUKEwjZn43LmpbkAhUkpIsKHd6SBoIQFjAXegQIUhAB&usg=AOvVaw0YJYjnaa69dKNRTaNWkRtP',\n",
       " '/url?q=https://www.svt.se/nyheter/eu-valet-partierna-och-asylpolitiken&sa=U&ved=2ahUKEwjZn43LmpbkAhUkpIsKHd6SBoIQFjAYegQITRAB&usg=AOvVaw17kODJd7RqkVe3vtpg8lOx',\n",
       " '/url?q=https://www.svt.se/nyheter/utrikes/syriska-flyktingar-i-libanon-tvingas-riva-sina-hem&sa=U&ved=2ahUKEwjZn43LmpbkAhUkpIsKHd6SBoIQFjAZegQIUBAB&usg=AOvVaw1J6iJ2PxJaVi9Avtl7MKhI',\n",
       " '/url?q=https://www.svt.se/nyheter/amne/Flyktingar_i_G%25C3%25B6teborgs_hamn&sa=U&ved=2ahUKEwjZn43LmpbkAhUkpIsKHd6SBoIQFjAaegQITxAB&usg=AOvVaw21317AZ90GgbaGm5RhR5jm',\n",
       " '/url?q=https://www.svt.se/special/migrationsstrommar-till-europa/&sa=U&ved=2ahUKEwjZn43LmpbkAhUkpIsKHd6SBoIQFjAbegQIThAB&usg=AOvVaw0p7CTnES6iZcARvneH1mKD',\n",
       " '/url?q=https://www.svt.se/nyheter/nyhetstecken/ny-rapport-rekordmanga-flyktingar-i-varlden&sa=U&ved=2ahUKEwjZn43LmpbkAhUkpIsKHd6SBoIQFjAcegQIURAB&usg=AOvVaw2Od9yBAvCEynUC4ywEUmhv',\n",
       " '/url?q=https://www.svt.se/nyheter/amne/Flyktingar_p%25C3%25A5_v%25C3%25A4g_till_Finland&sa=U&ved=2ahUKEwjZn43LmpbkAhUkpIsKHd6SBoIQFjAdegQITBAB&usg=AOvVaw2i9bJfD_kY6i9GhW8bbyid',\n",
       " '/url?q=https://www.svt.se/nyheter/amne/Flyktingar_i_Porjus&sa=U&ved=2ahUKEwjZn43LmpbkAhUkpIsKHd6SBoIQFjAeegQISxAB&usg=AOvVaw3EeFCirUf4cVE-s6GNoEqL',\n",
       " '/url?q=https://www.svt.se/nyheter/amne/Flyktingar_i_Norrbotten&sa=U&ved=2ahUKEwjZn43LmpbkAhUkpIsKHd6SBoIQFjAfegQISRAB&usg=AOvVaw1n7fp9UZFg1OorFQtY8nco',\n",
       " '/url?q=https://www.svt.se/nyheter/inrikes/ett-ar-sen-flyktingkrisen-sa-ser-det-ut-i-dag&sa=U&ved=2ahUKEwjZn43LmpbkAhUkpIsKHd6SBoIQFjAgegQIShAB&usg=AOvVaw0VFBDRqY1hOq-wkBQLVmF6',\n",
       " '/url?q=https://www.svt.se/nyheter/inrikes/ny-eso-rapport-flyktinginvandring-en-kostnad-for-sverige&sa=U&ved=2ahUKEwjZn43LmpbkAhUkpIsKHd6SBoIQFjAhegQISBAB&usg=AOvVaw3y7ymlxd0UckEIZ8-l0xgV',\n",
       " '/url?q=https://www.svt.se/nyheter/lokalt/vasterbotten/politikerna-om-satsningen-pa-flyktingar-i-sorsele-ar-inget-misslyckande&sa=U&ved=2ahUKEwjZn43LmpbkAhUkpIsKHd6SBoIQFjAiegQIRxAB&usg=AOvVaw2YmNa3AFhj6GDIaYBLfqXI',\n",
       " '/url?q=https://www.svt.se/nyheter/lokalt/vasterbotten/sorsele-vill-ta-emot-flyktingar-men-nekas-lilian-holloway-m-kritisk-till-bosattningslagen&sa=U&ved=2ahUKEwjZn43LmpbkAhUkpIsKHd6SBoIQFjAjegQIRhAB&usg=AOvVaw25qW28UWYrd-frmYFMsiZm',\n",
       " '/url?q=https://www.svt.se/nyheter/utrikes/ny-asyllag-i-frankrike&sa=U&ved=2ahUKEwjZn43LmpbkAhUkpIsKHd6SBoIQFjAkegQIXRAB&usg=AOvVaw23DXCSZ_LNTlgw8fvtEbiV',\n",
       " '/url?q=https://www.svt.se/nyheter/snabbkollen/rekordmanga-flyktingar-i-varlden&sa=U&ved=2ahUKEwjZn43LmpbkAhUkpIsKHd6SBoIQFjAlegQIRBAB&usg=AOvVaw2UDcf8LKwYGdgKpKKimxwV',\n",
       " '/url?q=https://www.svt.se/nyheter/inrikes/dn-ipsos-sex-av-tio-valjare-vill-ha-farre-flyktingar&sa=U&ved=2ahUKEwjZn43LmpbkAhUkpIsKHd6SBoIQFjAmegQIQRAB&usg=AOvVaw1fPFpWbhgRWe9--hr6ZqXq',\n",
       " '/url?q=https://www.svt.se/nyheter/utrikes/antalet-flyktingar-pa-rutten-till-italien-okar&sa=U&ved=2ahUKEwjZn43LmpbkAhUkpIsKHd6SBoIQFjAnegQIQhAB&usg=AOvVaw3FnFgNUAHWyQ1dLR2hqZ0Z',\n",
       " '/url?q=https://www.svt.se/nyheter/lokalt/ost/unga-flyktingar-gor-fotoutstallning&sa=U&ved=2ahUKEwjZn43LmpbkAhUkpIsKHd6SBoIQFjAoegQIPxAB&usg=AOvVaw35ot7HXOFQRrFB5Na_EgOg',\n",
       " '/url?q=https://www.svt.se/nyheter/utrikes/konflikt-mellan-flyktingar-och-grekisk-polis-efter-falsk-nyhet-om-oppnad-grans&sa=U&ved=2ahUKEwjZn43LmpbkAhUkpIsKHd6SBoIQFjApegQIQxAB&usg=AOvVaw0yeSupkMkV8qhLl_csK0at',\n",
       " '/url?q=https://www.svt.se/nyheter/utrikes/fiskaren-som-raddar-flyktingar-ur-havet&sa=U&ved=2ahUKEwjZn43LmpbkAhUkpIsKHd6SBoIQFjAqegQIQBAB&usg=AOvVaw2ap4YhuTdiFxItLOfAlTLg',\n",
       " '/url?q=https://www.svt.se/nyheter/lokalt/vast/skattebetalarna-har-gjort-mig-till-mangmiljonar&sa=U&ved=2ahUKEwjZn43LmpbkAhUkpIsKHd6SBoIQFjAregQIPhAB&usg=AOvVaw3myttIUNOH9o5xm0kf-Nbi',\n",
       " '/url?q=https://www.svt.se/nyheter/lokalt/blekinge/anders-blev-miljonar-pa-flyktingar-inget-jag-skams-over&sa=U&ved=2ahUKEwjZn43LmpbkAhUkpIsKHd6SBoIQFjAsegQIPRAB&usg=AOvVaw22nLf4Yzmi9jE5310eQ_gb',\n",
       " '/url?q=https://www.svt.se/nyheter/byggnads-tackar-nej-till-snabbspar-for-flyktingar&sa=U&ved=2ahUKEwjZn43LmpbkAhUkpIsKHd6SBoIQFjAtegQIPBAB&usg=AOvVaw1zi9bDl4KDhIpioDBLIyUM',\n",
       " '/url?q=https://www.svt.se/nyheter/utrikes/colombia-flyktingar-far-inte-atervanda-trots-fred&sa=U&ved=2ahUKEwjZn43LmpbkAhUkpIsKHd6SBoIQFjAuegQIOxAB&usg=AOvVaw38CPH5bq6ypFpry1beFP3i',\n",
       " '/url?q=https://www.svt.se/nyheter/lokalt/jonkoping/high-chaparral-gnosjo-vill-ge-flyktingarna-bevakning&sa=U&ved=2ahUKEwjZn43LmpbkAhUkpIsKHd6SBoIQFjAvegQIORAB&usg=AOvVaw2iTOxymfqIAI-yq0Aqj72Z',\n",
       " '/url?q=https://www.svt.se/nyheter/inrikes/flyktingar-i-stockholm-vill-vidare-till-finland&sa=U&ved=2ahUKEwjZn43LmpbkAhUkpIsKHd6SBoIQFjAwegQIOhAB&usg=AOvVaw3Gpbg17xLWdFNV5Y9VRxf2',\n",
       " '/url?q=https://www.svt.se/nyheter/utrikes/rekordmanga-flyktingar-pa-medelhavet&sa=U&ved=2ahUKEwjZn43LmpbkAhUkpIsKHd6SBoIQFjAxegQIOBAB&usg=AOvVaw2Gi6mCJ79BJXCTp3Xt1RLN',\n",
       " '/url?q=https://www.svt.se/nyheter/lokalt/dalarna/samuel-gor-film-for-flyktingar&sa=U&ved=2ahUKEwjZn43LmpbkAhUkpIsKHd6SBoIQFjAyegQINxAB&usg=AOvVaw3vGeNKdt2IhQ9iPPqHI8SY',\n",
       " '/url?q=https://www.svt.se/nyheter/lokalt/norrbotten/alla-flyktingar-stoppas-vid-gransen&sa=U&ved=2ahUKEwjZn43LmpbkAhUkpIsKHd6SBoIQFjAzegQINhAB&usg=AOvVaw2cNgI4pSg8Y6uHccwhd-t4',\n",
       " '/url?q=https://www.svt.se/nyheter/utrikes/extremister-varvar-redan-flyktingar-i-tyskland&sa=U&ved=2ahUKEwjZn43LmpbkAhUkpIsKHd6SBoIQFjA0egQINRAB&usg=AOvVaw1NH5OsioQ1WL77XB1aCgsI',\n",
       " '/url?q=https://www.svt.se/nyheter/utrikes/begravda-utan-namn&sa=U&ved=2ahUKEwjZn43LmpbkAhUkpIsKHd6SBoIQFjA1egQIMhAB&usg=AOvVaw0RMrsd7YmPCb6p6srtkicD',\n",
       " '/url?q=https://www.svt.se/nyheter/lokalt/vasternorrland/flyktingar-tvingas-simma&sa=U&ved=2ahUKEwjZn43LmpbkAhUkpIsKHd6SBoIQFjA2egQIMRAB&usg=AOvVaw0jGe7TDl9dfcd4Hk86ilSR',\n",
       " '/url?q=https://www.svt.se/nyheter/utrikes/ungern-folkomrostning-om-flyktingar-2-oktober&sa=U&ved=2ahUKEwjZn43LmpbkAhUkpIsKHd6SBoIQFjA3egQIMxAB&usg=AOvVaw3JJvGBPRkssnGrKwPkoAVF',\n",
       " '/url?q=https://www.svt.se/nyheter/lokalt/vasterbotten/sondagstraffar-for-flyktingar-en-plats-for-sjalavard&sa=U&ved=2ahUKEwjZn43LmpbkAhUkpIsKHd6SBoIQFjA4egQINBAB&usg=AOvVaw0c4SoCIpDYdH5aAcZa9Ek-',\n",
       " '/url?q=https://www.svt.se/nyheter/lokalt/helsingborg/flyktingar-hanger-under-lastbilar&sa=U&ved=2ahUKEwjZn43LmpbkAhUkpIsKHd6SBoIQFjA5egQIMBAB&usg=AOvVaw3vt3jegc4FlcCFZmdE8HhR',\n",
       " '/url?q=https://www.svt.se/nyheter/utrikes/flyktingar-i-fokus-under-pavens-femte-midnattsmassa&sa=U&ved=2ahUKEwjZn43LmpbkAhUkpIsKHd6SBoIQFjA6egQILxAB&usg=AOvVaw1eNSYaK7upN_91XET2TZc7',\n",
       " '/url?q=https://www.svt.se/nyheter/utrikes/konvoj-med-frivilliga-hamtar-flyktingar-i-ungern&sa=U&ved=2ahUKEwjZn43LmpbkAhUkpIsKHd6SBoIQFjA7egQILBAB&usg=AOvVaw0YZkEftca4YkPUVtBdMpn5',\n",
       " '/url?q=https://www.svt.se/nyheter/lokalt/norrbotten/kraftig-okning-av-flyktingar-till-lanet&sa=U&ved=2ahUKEwjZn43LmpbkAhUkpIsKHd6SBoIQFjA8egQILhAB&usg=AOvVaw1GXaKZuXlt8y6o4WEwQkm4',\n",
       " '/url?q=https://www.svt.se/nyheter/lokalt/halland/flyktingar-riskerade-bli-bostadslosa-i-stormen&sa=U&ved=2ahUKEwjZn43LmpbkAhUkpIsKHd6SBoIQFjA9egQILRAB&usg=AOvVaw1QBXRCE8eSFB4sTrpBsab0',\n",
       " '/url?q=https://www.svt.se/nyheter/federley-c-sa-ska-lander-tvingas-ta-emot-flyktingar&sa=U&ved=2ahUKEwjZn43LmpbkAhUkpIsKHd6SBoIQFjA-egQIKxAB&usg=AOvVaw0oaqQtAnyFGTkRdVsrkUbi',\n",
       " '/url?q=https://www.svt.se/nyheter/lokalt/skane/flyktingar-utan-biljett-slipper-bota&sa=U&ved=2ahUKEwjZn43LmpbkAhUkpIsKHd6SBoIQFjA_egQIKhAB&usg=AOvVaw0E0F-cnUoYjp91AgNdVa1r',\n",
       " '/url?q=https://www.svt.se/nyheter/lokalt/varmland/inget-nytt-boende-for-unga-ensamkommande-i-arvika&sa=U&ved=2ahUKEwjZn43LmpbkAhUkpIsKHd6SBoIQFjBAegQIKRAB&usg=AOvVaw2Yx4FMPukAPIZa7d9mSp5p',\n",
       " '/url?q=https://www.svt.se/nyheter/inrikes/har-ar-flyktingarna-som-riskerar-sina-liv-pa-medelhavet&sa=U&ved=2ahUKEwjZn43LmpbkAhUkpIsKHd6SBoIQFjBBegQIJxAB&usg=AOvVaw3hvPYoclfxOqsKFQqBU48R',\n",
       " '/url?q=https://www.svt.se/nyheter/utrikes/flyktingar-stammer-australien&sa=U&ved=2ahUKEwjZn43LmpbkAhUkpIsKHd6SBoIQFjBCegQIJBAB&usg=AOvVaw0sNQpTq5ahTlZ-5u4m4rZM',\n",
       " '/url?q=https://www.svt.se/nyheter/inrikes/flyktingar-hamnar-i-sma-kommuner&sa=U&ved=2ahUKEwjZn43LmpbkAhUkpIsKHd6SBoIQFjBDegQIJhAB&usg=AOvVaw2h-Lv3UH6jHnpKZHqQ-E8g',\n",
       " '/url?q=https://www.svt.se/nyheter/val2014/unika-bilder-sa-valjs-flyktingar-ut&sa=U&ved=2ahUKEwjZn43LmpbkAhUkpIsKHd6SBoIQFjBEegQIYRAB&usg=AOvVaw1HoU5AeusODrAwuFSGwWUZ',\n",
       " '/url?q=https://www.svt.se/nyheter/lokalt/ost/tunga-ideella-organisationer-star-upp-for-flyktingar-pa-gotland&sa=U&ved=2ahUKEwjZn43LmpbkAhUkpIsKHd6SBoIQFjBFegQIJRAB&usg=AOvVaw1qQTGZbWtOxaxfPF_hYw0I',\n",
       " '/url?q=https://www.svt.se/nyheter/lokalt/stockholm/flyktingar-valkomnas-till-stockholm&sa=U&ved=2ahUKEwjZn43LmpbkAhUkpIsKHd6SBoIQFjBGegQIKBAB&usg=AOvVaw0ii9t7b3NPuInRD8iwI-PO',\n",
       " '/url?q=https://www.svt.se/nyheter/lokalt/jonkoping/skilda-asikter-om-ratt-hjalp-till-flyktingar&sa=U&ved=2ahUKEwjZn43LmpbkAhUkpIsKHd6SBoIQFjBHegQIIhAB&usg=AOvVaw30sMtCOxpR0g28HpbXEYVU',\n",
       " '/url?q=https://www.svt.se/nyheter/utrikes/flyktingar-far-bo-hos-finlands-statsminister&sa=U&ved=2ahUKEwjZn43LmpbkAhUkpIsKHd6SBoIQFjBIegQIHRAB&usg=AOvVaw2GPeWh99KXHhYFUdZNBOIa',\n",
       " '/url?q=https://www.svt.se/nyheter/lokalt/smaland/hultsfreds-kommun-om-du-ar-snall-kan-du-fa-jobb-som-larare&sa=U&ved=2ahUKEwjZn43LmpbkAhUkpIsKHd6SBoIQFjBJegQIHBAB&usg=AOvVaw0xykPIDdITFsa3U25fhH4V',\n",
       " '/url?q=https://www.svt.se/nyheter/lokalt/dalarna/sista-flyktingarna-lamnar-trangslet&sa=U&ved=2ahUKEwjZn43LmpbkAhUkpIsKHd6SBoIQFjBKegQIIBAB&usg=AOvVaw0xoNo9kkHu-DkpUSQfMBMx',\n",
       " '/url?q=https://www.svt.se/nyheter/utrikes/flyktingar-maste-lamna-fran-sig-pengar&sa=U&ved=2ahUKEwjZn43LmpbkAhUkpIsKHd6SBoIQFjBLegQIHxAB&usg=AOvVaw0u8Pu_ZASgdvQKbK3149hI',\n",
       " '/url?q=https://www.svt.se/nyheter/utrikes/farre-flyktingar-till-tyskland&sa=U&ved=2ahUKEwjZn43LmpbkAhUkpIsKHd6SBoIQFjBMegQIHhAB&usg=AOvVaw2BY-FHaYeXCd8ZKykFBceW',\n",
       " '/url?q=https://www.svt.se/nyheter/utrikes/talamodet-tryter-med-malta&sa=U&ved=2ahUKEwjZn43LmpbkAhUkpIsKHd6SBoIQFjBNegQIIRAB&usg=AOvVaw3kbFzDeFuUnSRnr9Vq8ohK',\n",
       " '/url?q=https://www.svt.se/nyheter/lokalt/norrbotten/mot-flyktingarna-som-stannade-pa-skidorten&sa=U&ved=2ahUKEwjZn43LmpbkAhUkpIsKHd6SBoIQFjBOegQIGxAB&usg=AOvVaw0hETpLMTZ44rEn-GQXbJ0e',\n",
       " '/url?q=https://www.svt.se/nyheter/lokalt/vasternorrland/flyktingar-valkomnades-med-pizza&sa=U&ved=2ahUKEwjZn43LmpbkAhUkpIsKHd6SBoIQFjBPegQIGhAB&usg=AOvVaw301F8LEGGiGTca0qY2tbZ6',\n",
       " '/url?q=https://www.svt.se/nyheter/utrikes/portugal-kan-ta-emot-fler-flyktingar&sa=U&ved=2ahUKEwjZn43LmpbkAhUkpIsKHd6SBoIQFjBQegQIGRAB&usg=AOvVaw3cqzj1Lz5sEsrtOdHfmuhS',\n",
       " '/url?q=https://www.svt.se/nyheter/lokalt/skane/oklart-hur-mycket-man-far-hjalpa-flyktingar-i-sverige&sa=U&ved=2ahUKEwjZn43LmpbkAhUkpIsKHd6SBoIQFjBRegQIFhAB&usg=AOvVaw0qg6KhceB2Tp2hcxB5boFF',\n",
       " '/url?q=https://www.svt.se/opinion/flyktingarna-kostar-mer-an-vad-sd-raknar-med&sa=U&ved=2ahUKEwjZn43LmpbkAhUkpIsKHd6SBoIQFjBSegQIFxAB&usg=AOvVaw3QD-JZijxWyP10sJqAaz-M',\n",
       " '/url?q=https://www.svt.se/nyheter/lokalt/vast/flyktingar-som-hardvaluta&sa=U&ved=2ahUKEwjZn43LmpbkAhUkpIsKHd6SBoIQFjBTegQIGBAB&usg=AOvVaw3gHqiOegS1SGGWFRTL5buw',\n",
       " '/url?q=https://www.svt.se/nyheter/lokalt/smaland/de-svara-perioderna-gav-honom-energin-att-fortsatta&sa=U&ved=2ahUKEwjZn43LmpbkAhUkpIsKHd6SBoIQFjBUegQIFRAB&usg=AOvVaw3bQkumulqydkb1rO7Tlble',\n",
       " '/url?q=https://www.svt.se/nyheter/utrikes/flyktinga-lamnar-ungerskt-lager&sa=U&ved=2ahUKEwjZn43LmpbkAhUkpIsKHd6SBoIQFjBVegQIFBAB&usg=AOvVaw15Z2_3KwoGKBf9Vri2fAUe',\n",
       " '/url?q=https://www.svt.se/nyheter/utrikes/makedonien-stanger-gransen-for-flyktingar&sa=U&ved=2ahUKEwjZn43LmpbkAhUkpIsKHd6SBoIQFjBWegQIExAB&usg=AOvVaw38B6rUWzxn4HT9HWdbb7z1',\n",
       " '/url?q=https://www.svt.se/nyheter/lokalt/norrbotten/skidanlaggning-blir-flyktingforlaggning&sa=U&ved=2ahUKEwjZn43LmpbkAhUkpIsKHd6SBoIQFjBXegQIEhAB&usg=AOvVaw3T_haScrhtrwjnnW8cpQfh',\n",
       " '/url?q=https://www.svt.se/nyheter/utrikes/ohallbar-situation-for-syriska-flyktingar-i-libanon&sa=U&ved=2ahUKEwjZn43LmpbkAhUkpIsKHd6SBoIQFjBYegQIERAB&usg=AOvVaw33reoJS59CTpsI0WloS0n_',\n",
       " '/url?q=https://www.svt.se/nyheter/lokalt/orebro/hon-hjalper-flyktingar-i-grekland&sa=U&ved=2ahUKEwjZn43LmpbkAhUkpIsKHd6SBoIQFjBZegQIEBAB&usg=AOvVaw0t9hXj7-Xwaa2t6qmdTZXi',\n",
       " '/url?q=https://www.svt.se/nyheter/lokalt/vasternorrland/80-flyktingar-till-aston&sa=U&ved=2ahUKEwjZn43LmpbkAhUkpIsKHd6SBoIQFjBaegQIDxAB&usg=AOvVaw2T76PC6jAde7BgyexWq1y8',\n",
       " '/url?q=https://www.svt.se/nyheter/lokalt/stockholm/moderaterna-kraver-kortare-byggtider&sa=U&ved=2ahUKEwjZn43LmpbkAhUkpIsKHd6SBoIQFjBbegQIDhAB&usg=AOvVaw0LwClc1mDa5qVoTDcXrXYN',\n",
       " '/url?q=https://www.svt.se/nyheter/lokalt/ost/ytterligare-50-flyktingar-pa-vag&sa=U&ved=2ahUKEwjZn43LmpbkAhUkpIsKHd6SBoIQFjBcegQIDBAB&usg=AOvVaw26pRnpvKHtsE0vH-PW_p5l',\n",
       " '/url?q=https://www.svt.se/nyheter/lokalt/varmland/taltlaget-for-ensamkommande-i-kristinehamn&sa=U&ved=2ahUKEwjZn43LmpbkAhUkpIsKHd6SBoIQFjBdegQICxAB&usg=AOvVaw0zUrRUBgDjlFOOOXz0sE7n',\n",
       " '/url?q=https://www.svt.se/nyheter/lokalt/smaland/utstallning-i-mobilen-finns-hela-manniskan&sa=U&ved=2ahUKEwjZn43LmpbkAhUkpIsKHd6SBoIQFjBeegQIChAB&usg=AOvVaw3b3UDzmahXIX8qmyDuXwGp',\n",
       " '/url?q=https://www.svt.se/nyheter/lokalt/smaland/vaxjo-tjanar-inga-pengar-pa-flyktingar&sa=U&ved=2ahUKEwjZn43LmpbkAhUkpIsKHd6SBoIQFjBfegQICBAB&usg=AOvVaw1ULyV1YQinstBQujs4YqMk',\n",
       " '/url?q=https://www.svt.se/nyheter/inrikes/allt-fler-flyktingar-gar-under-jorden&sa=U&ved=2ahUKEwjZn43LmpbkAhUkpIsKHd6SBoIQFjBgegQICRAB&usg=AOvVaw1OjsCw8j4gaA4yha1Y2zWo',\n",
       " '/url?q=https://www.svt.se/nyheter/utrikes/delat-italien-kan-man-forbjuda-att-radda-flyktingar-i-sjonod&sa=U&ved=2ahUKEwjZn43LmpbkAhUkpIsKHd6SBoIQFjBhegQIDRAB&usg=AOvVaw1YtM8KlBhf1pq0Tx1jcGOn',\n",
       " '/url?q=https://www.svt.se/nyheter/inrikes/eu-overens-om-flyktingmottagande&sa=U&ved=2ahUKEwjZn43LmpbkAhUkpIsKHd6SBoIQFjBiegQIBxAB&usg=AOvVaw1ChbIQ8KokFoaVCFLvplgA',\n",
       " '/url?q=https://www.svt.se/nyheter/lokalt/skane/nu-skickas-flyktingar-till-kommunerna-som-vagrar&sa=U&ved=2ahUKEwjZn43LmpbkAhUkpIsKHd6SBoIQFjBjegQIABAB&usg=AOvVaw1z0o4I57LIAbjDl0gnPmQK',\n",
       " '/url?q=https://www.svt.se/nyheter/lokalt/skane/volontarer-arbetar-for-flyktingarna&sa=U&ved=2ahUKEwjZn43LmpbkAhUkpIsKHd6SBoIQFjBkegQIAxAB&usg=AOvVaw1cRXDJq2UeApAzPM-eL7QT',\n",
       " '/url?q=https://www.svt.se/nyheter/lokalt/vast/nodtext-stromstad&sa=U&ved=2ahUKEwjZn43LmpbkAhUkpIsKHd6SBoIQFjBlegQIBhAB&usg=AOvVaw1VwlLGgGHmqzSfNPEjRTog',\n",
       " '/url?q=https://www.svt.se/nyheter/lokalt/norrbotten/flyktingar-fastnar-pa-anlaggningsboenden&sa=U&ved=2ahUKEwjZn43LmpbkAhUkpIsKHd6SBoIQFjBmegQIAhAB&usg=AOvVaw2tu2CxMnn_KIh7EESh_l1S',\n",
       " '/url?q=https://www.svt.se/nyheter/amne/Dalarna_-_Flyktingar_i_Dalarna&sa=U&ved=2ahUKEwjZn43LmpbkAhUkpIsKHd6SBoIQFjBnegQIARAB&usg=AOvVaw257YCthWnSMQT3HWm1uAB1',\n",
       " '/url?q=https://www.svt.se/nyheter/utrikes/tyskar-positiva-till-fler-flyktingar&sa=U&ved=2ahUKEwjZn43LmpbkAhUkpIsKHd6SBoIQFjBoegQIBBAB&usg=AOvVaw2Rd1P5fli1NBXrOEy10Qpa']"
      ]
     },
     "execution_count": 58,
     "metadata": {},
     "output_type": "execute_result"
    }
   ],
   "source": [
    "links"
   ]
  },
  {
   "cell_type": "code",
   "execution_count": null,
   "metadata": {},
   "outputs": [],
   "source": []
  },
  {
   "cell_type": "code",
   "execution_count": null,
   "metadata": {},
   "outputs": [],
   "source": []
  }
 ],
 "metadata": {
  "kernelspec": {
   "display_name": "Python 3",
   "language": "python",
   "name": "python3"
  },
  "language_info": {
   "codemirror_mode": {
    "name": "ipython",
    "version": 3
   },
   "file_extension": ".py",
   "mimetype": "text/x-python",
   "name": "python",
   "nbconvert_exporter": "python",
   "pygments_lexer": "ipython3",
   "version": "3.7.1"
  }
 },
 "nbformat": 4,
 "nbformat_minor": 2
}
