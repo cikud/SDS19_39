{
 "cells": [
  {
   "cell_type": "markdown",
   "metadata": {},
   "source": [
    "# Getting data from [Information.dk](https://www.information.dk)\n",
    "- Be aware of time-delay!!!"
   ]
  },
  {
   "cell_type": "markdown",
   "metadata": {},
   "source": [
    "### Import packages"
   ]
  },
  {
   "cell_type": "code",
   "execution_count": 2,
   "metadata": {},
   "outputs": [],
   "source": [
    "import pandas as pd\n",
    "import numpy as np\n",
    "import requests\n",
    "import random\n",
    "import time\n",
    "from tqdm import tqdm\n",
    "from bs4 import BeautifulSoup\n",
    "import re"
   ]
  },
  {
   "cell_type": "markdown",
   "metadata": {},
   "source": [
    "### Get list of dates\n",
    "- Set start_dt/end_dt for the desired time span"
   ]
  },
  {
   "cell_type": "code",
   "execution_count": 89,
   "metadata": {},
   "outputs": [],
   "source": [
    "from datetime import timedelta, date\n",
    "def daterange(date1, date2):\n",
    "    for n in range(int ((date2 - date1).days)+1):\n",
    "        yield date1 + timedelta(n)\n",
    "#Define the interval for possible scraping articles \n",
    "start_dt = date(2018, 8, 20)\n",
    "end_dt = date(2018, 8, 21)\n",
    "dates=[]\n",
    "for dt in daterange(start_dt, end_dt):\n",
    "    dates.append(dt.strftime(\"%d-%m-%Y\"))"
   ]
  },
  {
   "cell_type": "markdown",
   "metadata": {},
   "source": [
    "### Get list of 'Dagens Avis'  for the desired timespan"
   ]
  },
  {
   "cell_type": "code",
   "execution_count": 91,
   "metadata": {},
   "outputs": [
    {
     "data": {
      "text/plain": [
       "['https://www.information.dk/dagensavis/20-08-2018',\n",
       " 'https://www.information.dk/dagensavis/21-08-2018']"
      ]
     },
     "execution_count": 91,
     "metadata": {},
     "output_type": "execute_result"
    }
   ],
   "source": [
    "<div data-value=\"Ballerup\" class=\"cell cell-1 first cell-clickable\" data-href=\"/offentlig/vaerktoejer/energi-og-co2-regnskab/ballerup?year=2015\">Ballerup</div>"
   ]
  },
  {
   "cell_type": "markdown",
   "metadata": {},
   "source": [
    "### Get all links within a section\n",
    "- Put in the desired newspaper sections in section[]"
   ]
  },
  {
   "cell_type": "code",
   "execution_count": 97,
   "metadata": {},
   "outputs": [
    {
     "name": "stderr",
     "output_type": "stream",
     "text": [
      "100%|████████████████████████████████████████████████████████████████████████████████████| 2/2 [00:00<00:00,  4.92it/s]\n"
     ]
    },
    {
     "data": {
      "text/plain": [
       "['https://www.information.dk/indland/2018/08/historien-graa-guld-paa-arbejdsmarkedet-kun-halve-sandhed-flere-aeldre-gaar-paa-foertidspension',\n",
       " 'https://www.information.dk/indland/2018/08/regeringen-satser-paa-nye-uddannelser-provinsen-mens-skaerer-paa-uddannelser-provinsen',\n",
       " 'https://www.information.dk/indland/2018/08/hvordan-redder-folkets-skole',\n",
       " 'https://www.information.dk/indland/leder/2018/08/historien-statsminister-lykke-lars',\n",
       " 'https://www.information.dk/indland/2018/08/sovjetiske-tanks-prag-banede-vejen-danske-venstrefloejs-opgoer-stalinismen',\n",
       " 'https://www.information.dk/indland/2018/08/neoliberalismen-gaaet-fisk-verdenshavet']"
      ]
     },
     "execution_count": 97,
     "metadata": {},
     "output_type": "execute_result"
    }
   ],
   "source": [
    "sections=['indland','udland','kultur','debat','ledere','litteratur','moderne tider'] #most used sections\n",
    "#be aware that one time used sections as 'omstilling' and 'højsæson' exists - i haven't found a way to search for all possible sections yet\n",
    "sections=['indland'] #most used sections\n",
    "\n",
    "from tqdm import tqdm\n",
    "url_sub=[]\n",
    "\n",
    "for x in tqdm(url_il):\n",
    "    response=requests.get(x,headers={'User-Agent':'Mozilla/5.0'})\n",
    "    if response.ok==True:\n",
    "        html = response.text #raw html\n",
    "        html_soup=BeautifulSoup(html,'lxml') #html parsing\n",
    "        for section in sections:\n",
    "            for x in html_soup.findAll('a', attrs={'href': re.compile(\"^/\"+section)}): #finding all hyperlinks that links to subsections\n",
    "                url_sub.append('https://www.information.dk'+x.get('href'))\n",
    "url_sub"
   ]
  },
  {
   "cell_type": "markdown",
   "metadata": {},
   "source": [
    "### Get information and make  DataFrame\n",
    "Incl: remove all articles with 'abonnent'\n",
    "- Return df with section/author, headline, subheadline, text\n",
    "- It is not possible to scrape for section and author seperately. Therefore, when one should split these afterwards. "
   ]
  },
  {
   "cell_type": "code",
   "execution_count": 119,
   "metadata": {},
   "outputs": [
    {
     "data": {
      "text/html": [
       "<div>\n",
       "<style scoped>\n",
       "    .dataframe tbody tr th:only-of-type {\n",
       "        vertical-align: middle;\n",
       "    }\n",
       "\n",
       "    .dataframe tbody tr th {\n",
       "        vertical-align: top;\n",
       "    }\n",
       "\n",
       "    .dataframe thead th {\n",
       "        text-align: right;\n",
       "    }\n",
       "</style>\n",
       "<table border=\"1\" class=\"dataframe\">\n",
       "  <thead>\n",
       "    <tr style=\"text-align: right;\">\n",
       "      <th></th>\n",
       "    </tr>\n",
       "  </thead>\n",
       "  <tbody>\n",
       "  </tbody>\n",
       "</table>\n",
       "</div>"
      ],
      "text/plain": [
       "Empty DataFrame\n",
       "Columns: []\n",
       "Index: []"
      ]
     },
     "execution_count": 119,
     "metadata": {},
     "output_type": "execute_result"
    }
   ],
   "source": [
    "import requests\n",
    "from bs4 import BeautifulSoup\n",
    "import pandas as pd\n",
    "\n",
    "articles={}\n",
    "for X in url_sub:\n",
    "    time.sleep(1) #Timer: set this to avoid DOS\n",
    "    html = requests.get(X).text\n",
    "    soup_sub=BeautifulSoup(html,'lxml')\n",
    "    if soup_sub.findAll('div', {'class':\"c-node-premium-marker-title__abonnement\"})==[]:\n",
    "        headline=soup_sub.find('h1').getText() # Get headline\n",
    "        #headline_sub=soup_sub.find('div', {'class':'field field-name-field-underrubrik'}).getText() # Get sub headline  \n",
    "        sec_author=soup_sub.find('div', {'class':'group-byline group-byline-desktop field-group-div'}).getText() # Get sub headline  \n",
    "        main_text=soup_sub.find('div', {'class':'field field-name-body'}).getText() # Get main text\n",
    "        articles.append({'Header':headline,'Header sub':headline_sub,'Section and Author':sec_author,'Text':main_text})\n",
    "    else:\n",
    "        continue\n",
    "df=pd.DataFrame(articles) #make dataframe\n",
    "df"
   ]
  },
  {
   "cell_type": "code",
   "execution_count": 103,
   "metadata": {},
   "outputs": [
    {
     "data": {
      "text/html": [
       "<div>\n",
       "<style scoped>\n",
       "    .dataframe tbody tr th:only-of-type {\n",
       "        vertical-align: middle;\n",
       "    }\n",
       "\n",
       "    .dataframe tbody tr th {\n",
       "        vertical-align: top;\n",
       "    }\n",
       "\n",
       "    .dataframe thead th {\n",
       "        text-align: right;\n",
       "    }\n",
       "</style>\n",
       "<table border=\"1\" class=\"dataframe\">\n",
       "  <thead>\n",
       "    <tr style=\"text-align: right;\">\n",
       "      <th></th>\n",
       "    </tr>\n",
       "  </thead>\n",
       "  <tbody>\n",
       "  </tbody>\n",
       "</table>\n",
       "</div>"
      ],
      "text/plain": [
       "Empty DataFrame\n",
       "Columns: []\n",
       "Index: []"
      ]
     },
     "execution_count": 103,
     "metadata": {},
     "output_type": "execute_result"
    }
   ],
   "source": [
    "df"
   ]
  },
  {
   "cell_type": "markdown",
   "metadata": {},
   "source": [
    "### Furhter work\n",
    "- Scrape comments in each article\n",
    "- Clean the information (e.g. the \\n in title and divide author and section in one)\n",
    "- Optimize code? We want to write our loops in function, because it will make errors more intuitive (from lecture)\n",
    "\n",
    "### Other data possible to get\n",
    "- Name of Photographer\n",
    "- Education of author\n",
    "- Amount of shares (Can be used as an approximation of how viral the article went)\n",
    "\n",
    "\n"
   ]
  },
  {
   "cell_type": "code",
   "execution_count": null,
   "metadata": {},
   "outputs": [],
   "source": []
  },
  {
   "cell_type": "code",
   "execution_count": 122,
   "metadata": {},
   "outputs": [
    {
     "data": {
      "text/html": [
       "<div>\n",
       "<style scoped>\n",
       "    .dataframe tbody tr th:only-of-type {\n",
       "        vertical-align: middle;\n",
       "    }\n",
       "\n",
       "    .dataframe tbody tr th {\n",
       "        vertical-align: top;\n",
       "    }\n",
       "\n",
       "    .dataframe thead th {\n",
       "        text-align: right;\n",
       "    }\n",
       "</style>\n",
       "<table border=\"1\" class=\"dataframe\">\n",
       "  <thead>\n",
       "    <tr style=\"text-align: right;\">\n",
       "      <th></th>\n",
       "      <th>Header</th>\n",
       "      <th>Header sub</th>\n",
       "      <th>Section and Author</th>\n",
       "      <th>Text</th>\n",
       "    </tr>\n",
       "  </thead>\n",
       "  <tbody>\n",
       "    <tr>\n",
       "      <th>0</th>\n",
       "      <td>\\n    Historien om det grå guld på arbejdsmark...</td>\n",
       "      <td>Flere ældre bliver på arbejdsmarkedet. Det er ...</td>\n",
       "      <td>Indland\\n\\n \\n\\nSebastian Abrahamsen EmailTwit...</td>\n",
       "      <td>Ældre bliver længere på arbejdsmarkedet. Det ...</td>\n",
       "    </tr>\n",
       "    <tr>\n",
       "      <th>1</th>\n",
       "      <td>\\n    Regeringen satser på nye uddannelser i p...</td>\n",
       "      <td>Det lyder ganske flot med regeringens ti nye u...</td>\n",
       "      <td>Indland\\n\\n \\n\\nLise Richter Email \\n\\nFå Lise...</td>\n",
       "      <td>Ti nye uddannelsesstationer åbner i disse uge...</td>\n",
       "    </tr>\n",
       "    <tr>\n",
       "      <th>2</th>\n",
       "      <td>\\n    Hvordan redder vi folkets skole? \\n</td>\n",
       "      <td>Folkeskolen er i krise. Sådan lyder diagnosen ...</td>\n",
       "      <td>Indland\\n\\n \\n\\nFiliz Yasar EmailTwitter \\n\\nF...</td>\n",
       "      <td>Der har netop været skolestart for folkeskole...</td>\n",
       "    </tr>\n",
       "    <tr>\n",
       "      <th>3</th>\n",
       "      <td>\\n    Historien om en statsminister: Lykke Lar...</td>\n",
       "      <td>Man kunne fortælle historien om den danske sta...</td>\n",
       "      <td>Indland\\n\\n \\n\\nRune Lykkeberg Email \\n\\nFå Ru...</td>\n",
       "      <td>Den danske statsminister er en karakter med l...</td>\n",
       "    </tr>\n",
       "    <tr>\n",
       "      <th>4</th>\n",
       "      <td>\\n    De sovjetiske tanks i Prag banede vejen ...</td>\n",
       "      <td>Invasionen af Tjekkoslovakiet den 21. august 1...</td>\n",
       "      <td>Indland\\n\\n \\n\\nUlrik Dahlin Email \\n\\nFå Ulri...</td>\n",
       "      <td>Da kampvogne og soldater fra Sovjetunionen, D...</td>\n",
       "    </tr>\n",
       "    <tr>\n",
       "      <th>5</th>\n",
       "      <td>\\n    Neoliberalismen er gået i fisk i verdens...</td>\n",
       "      <td>Systemet med omsættelige fiskekvoter har betyd...</td>\n",
       "      <td>Indland\\n\\n \\n\\nJørgen Steen Nielsen EmailTwit...</td>\n",
       "      <td>Det markedsbaserede, neoliberale system med o...</td>\n",
       "    </tr>\n",
       "  </tbody>\n",
       "</table>\n",
       "</div>"
      ],
      "text/plain": [
       "                                              Header  \\\n",
       "0  \\n    Historien om det grå guld på arbejdsmark...   \n",
       "1  \\n    Regeringen satser på nye uddannelser i p...   \n",
       "2        \\n    Hvordan redder vi folkets skole? \\n     \n",
       "3  \\n    Historien om en statsminister: Lykke Lar...   \n",
       "4  \\n    De sovjetiske tanks i Prag banede vejen ...   \n",
       "5  \\n    Neoliberalismen er gået i fisk i verdens...   \n",
       "\n",
       "                                          Header sub  \\\n",
       "0  Flere ældre bliver på arbejdsmarkedet. Det er ...   \n",
       "1  Det lyder ganske flot med regeringens ti nye u...   \n",
       "2  Folkeskolen er i krise. Sådan lyder diagnosen ...   \n",
       "3  Man kunne fortælle historien om den danske sta...   \n",
       "4  Invasionen af Tjekkoslovakiet den 21. august 1...   \n",
       "5  Systemet med omsættelige fiskekvoter har betyd...   \n",
       "\n",
       "                                  Section and Author  \\\n",
       "0  Indland\\n\\n \\n\\nSebastian Abrahamsen EmailTwit...   \n",
       "1  Indland\\n\\n \\n\\nLise Richter Email \\n\\nFå Lise...   \n",
       "2  Indland\\n\\n \\n\\nFiliz Yasar EmailTwitter \\n\\nF...   \n",
       "3  Indland\\n\\n \\n\\nRune Lykkeberg Email \\n\\nFå Ru...   \n",
       "4  Indland\\n\\n \\n\\nUlrik Dahlin Email \\n\\nFå Ulri...   \n",
       "5  Indland\\n\\n \\n\\nJørgen Steen Nielsen EmailTwit...   \n",
       "\n",
       "                                                Text  \n",
       "0   Ældre bliver længere på arbejdsmarkedet. Det ...  \n",
       "1   Ti nye uddannelsesstationer åbner i disse uge...  \n",
       "2   Der har netop været skolestart for folkeskole...  \n",
       "3   Den danske statsminister er en karakter med l...  \n",
       "4   Da kampvogne og soldater fra Sovjetunionen, D...  \n",
       "5   Det markedsbaserede, neoliberale system med o...  "
      ]
     },
     "execution_count": 122,
     "metadata": {},
     "output_type": "execute_result"
    }
   ],
   "source": [
    "#https://www.information.dk/bruger/login?destination=user/login\n",
    "login=\"https://www.information.dk/bruger/login\"\n",
    "#url_sub=\"https://www.information.dk/udland/2015/04/islamisk-stat-rekrutterer-bundter-ser-sort\"\n",
    "\n",
    "articles=[]\n",
    "#url=\"https://www.information.dk/kultur/anmeldelse/2015/05/engang-lille-bambuspige\"\n",
    "payload = {\n",
    "    \"form_build_id\": 'form-doEwMrQOA-Swa6-hukceUuc6HVgve3bEEPQ8XPfkrwc',\n",
    "    \"form_id\": 'user_login_block',\n",
    "    \"name\": 'Indsæt email',\n",
    "    \"op\": 'Log+ind',\n",
    "    \"pass\": 'Indsæt kode',\n",
    "}\n",
    "for X in url_sub:\n",
    "    time.sleep(1) #Timer: set this to avoid DOS\n",
    "    with requests.Session() as session:\n",
    "        post = session.post(login, data=payload, headers={'User-Agent':'Mozilla/5.0'})\n",
    "        html = session.get(X, headers={'User-Agent':'Mozilla/5.0'}).text\n",
    "        soup_sub=BeautifulSoup(html,'lxml')\n",
    "        headline=soup_sub.find('h1').getText() # Get headline\n",
    "        headline_sub=soup_sub.find('div', {'class':'field field-name-field-underrubrik'}).getText() # Get sub headline  \n",
    "        sec_author=soup_sub.find('div', {'class':'group-byline group-byline-desktop field-group-div'}).getText() # Get sub headline  \n",
    "        main_text=soup_sub.find('div', {'class':'field field-name-body'}).getText() # Get main text\n",
    "        articles.append({'Header':headline,'Header sub':headline_sub,'Section and Author':sec_author,'Text':main_text})\n",
    "\n",
    "df=pd.DataFrame(articles) #make dataframe\n",
    "df\n",
    "\n",
    "\n"
   ]
  },
  {
   "cell_type": "code",
   "execution_count": 145,
   "metadata": {},
   "outputs": [
    {
     "name": "stdout",
     "output_type": "stream",
     "text": [
      "[nltk_data] Downloading package punkt to\n",
      "[nltk_data]     C:\\Users\\hrs974\\AppData\\Roaming\\nltk_data...\n",
      "[nltk_data]   Package punkt is already up-to-date!\n"
     ]
    }
   ],
   "source": [
    "import nltk.data\n",
    "nltk.download('punkt')\n",
    "tokenizer = nltk.data.load('nltk:tokenizers/punkt/english.pickle')"
   ]
  },
  {
   "cell_type": "code",
   "execution_count": 308,
   "metadata": {},
   "outputs": [],
   "source": [
    "# Get data ready\n",
    "import re\n",
    "texts1 = [ text.replace(\"\\n\",\"\") for text in df['Text']]\n",
    "texts1 = ' '.join(map(str, texts1))\n",
    "texts =  texts1.split('.')\n",
    "texts = [ text.replace(\"\"\"\"\"\",\"\") for text in texts]\n",
    "texts = [ text.replace(r\"\\xa\",\"\") for text in texts]\n",
    "texts = [ text.lower() for text in texts]\n",
    "texts = [ text.replace(\"(\",\"\") for text in texts]\n",
    "texts = [ text.replace(\")\",\"\") for text in texts]\n",
    "texts = [ text.replace(\"\",\"\") for text in texts]\n",
    "texts = [ text.replace(\"»\",\"\") for text in texts]\n",
    "texts = [ text.replace(\"«\",\"\") for text in texts]\n",
    "texts = [ text.replace(\",\",\"\") for text in texts]\n",
    "\n",
    "#nltk.corpus.stopwords.words('danish')\n",
    "\n",
    "\n",
    "from nltk.tokenize import word_tokenize\n",
    "from nltk.corpus import stopwords\n",
    "stop_words = stopwords.words( 'danish' )\n",
    "#stop_words = [\"og\", \"i\", \"er\"]\n",
    "def build_corpus(data):\n",
    "    \"Creates a list of lists containing words from each sentence\"\n",
    "    corpus = []\n",
    "    for sentence in data:\n",
    "        word_list = word_tokenize(sentence)\n",
    "        word_list = [w for w in word_list if w not in stop_words]\n",
    "        world_list = [word.replace(\".\",\"\") for word in word_list]\n",
    "        corpus.append(word_list)    \n",
    "           \n",
    "    return corpus\n",
    "\n",
    "g = build_corpus(texts)    \n",
    "\n"
   ]
  },
  {
   "cell_type": "code",
   "execution_count": 316,
   "metadata": {},
   "outputs": [
    {
     "name": "stdout",
     "output_type": "stream",
     "text": [
      "['ældre', 'længere', 'arbejdsmarkedet', 'flere', 'kan', 'danske', 'nok', 'år', 'steget', 'tal', 'udviklingen', 'ifølge', 'blandt', 'andet', 'reformer', 'dermed', 'samtidig', 'udvikling', 'efterløn', 'gå', 'førtidspension', 'viser', '2013', '60-64-årige', 'fik', 'pct', '–', 'mere', 'gennem', 'dag', 'stor', 'del', 'før', 'arbejde', 'siger', 'ae-rådet', 'gøre', 'nedslidte', 'få', 'ved', 'ser', 'niveau', 'samme', 'forhold', 'tilbage', '’', 'bag', 'seniorførtidspension', 'to', 'første', 'viste', 'kun', 'sidste', 'så', 'blevet', 'derfor', 'skriver', 'kommer', 'hvilket', 'allerede', 'ti', 'får', 'sammen', 'nemlig', 'mindre', 'folk', 'bedre', 'brug', 'læs', ':', 'stadig', 'information', 'tunge', 'nye', 'uddannelsesstationer', 'andre', 'danmark', 'unge', 'f', 'eks', 'lærer', 'uddannelse', 'helt', 'lokale', 'regeringens', 'mio', 'kr', 'uddannelser', 'lidt', 'lærere', 'uden', 'tale', 'politikere', 'bestemt', 'se', 'politisk', 'større', 'via', 'store', 'står', 'krise', 'lærerne', '?', 'vores', 'lyder', 'folkeskolen', 'eleverne', 'godt', 'børn', 'hvordan', 'lærernes', 'lige', 'mål', 'hele', 'både', 'lars', 'løkke', 'lykke', '21', 'største', 'verden', 'kom', 'politiske', 'mellem', 'kampvogne', 'august', '1968', 'tjekkoslovakiet', 'invasionen', 'morten', 'thing', 'husker', 'foran', 'besættelsen', 'vs', 'fiskekvoter', 'konsekvenser', 'iok', 'm', 'fiskeriet', 'kvoter', 'økonomi', 'fiskere', 'fartøjer', 'svenske']\n"
     ]
    },
    {
     "name": "stderr",
     "output_type": "stream",
     "text": [
      "C:\\Users\\hrs974\\AppData\\Local\\Continuum\\anaconda3\\lib\\site-packages\\gensim\\matutils.py:737: FutureWarning: Conversion of the second argument of issubdtype from `int` to `np.signedinteger` is deprecated. In future, it will be treated as `np.int32 == np.dtype(int).type`.\n",
      "  if np.issubdtype(vec.dtype, np.int):\n"
     ]
    },
    {
     "name": "stdout",
     "output_type": "stream",
     "text": [
      "fiskere [('nye', 0.3019752502441406), ('helt', 0.2910374104976654), (':', 0.2785661816596985), ('vs', 0.27179384231567383), ('konsekvenser', 0.21719661355018616), ('kr', 0.20816713571548462), ('sammen', 0.1979581117630005), ('nedslidte', 0.19589722156524658), ('kun', 0.19432294368743896), ('to', 0.18575888872146606)]\n"
     ]
    }
   ],
   "source": [
    "model = Word2Vec(g)\n",
    "words = list(model.wv.vocab)\n",
    "print(words)\n",
    "print('fiskere',model.wv.most_similar('fiskere'))"
   ]
  },
  {
   "cell_type": "code",
   "execution_count": 310,
   "metadata": {},
   "outputs": [
    {
     "name": "stdout",
     "output_type": "stream",
     "text": [
      "[' ældre bliver længere på arbejdsmarkedet', ' det grå guld hitter', ' flere ældre fortsætter i jobbet', 'sådan kan man med jævne mellemrum læse i de danske medier', ' og den er god nok', 'på fire år er beskæftigelsen for de 60+-årige steget med 52', '000 personer', 'det grå guld glimter som finansminister kristian jensen v sagde i en pressemeddelelse da det tal blev offentliggjort i foråret', 'udviklingen skyldes ifølge ministeren blandt andet reformer der har hævet efterlønsalderen og dermed fået flere til at blive på arbejdsmarkedet', 'men samtidig har en anden udvikling fundet sted', 'i takt med at færre går på efterløn og flere bliver på arbejdsmarkedet er et stigende antal ældre begyndt at gå på førtidspension', ' det viser en ny analyse fra arbejderbevægelsens erhvervsråd som er baseret på tal fra styrelsen for arbejdsmarked og rekruttering', 'i 2013 var der 863 60-64-årige der fik tildelt førtidspension', ' i 2017 var det steget til 1', '940 personer', ' det svarer til en stigning på 133 pct', ' – altså mere end en fordobling', 'frem til udgangen af 2013 kunne man gå på efterløn som 60-årig hvis man ellers havde indbetalt til ordningen gennem en a-kasse', ' i dag skal man være 625 år og tallet stiger år for år', 'det skyldes tilbagetrækningsreformen fra 2011', 'en stor del af de der før ville være gået på efterløn fortsætter nu i stedet med at arbejde', ' finansministeriets tal viser at beskæftigelsesfrekvensen blandt 60-64-årige steget med 11 procentpoint på fire år', 'men flere vælger altså også at gå på førtidspension i stedet', 'det her viser bagsiden af medaljen når man taler om at efterlønsreformen har været en succes siger emilie agner damm senioranalytiker i ae-rådet', 'udviklingen tyder ifølge hende\\xa0på at mange ældre har behov for et andet forsørgelsesgrundlag efter det ikke længere er muligt for dem at gå på efterløn', ' men i modsætning til efterløn skal man igennem en længere udredning for at gøre sig fortjent til førtidspension', 'hun vurderer at der nu er en stigende gruppe af ældre der er for nedslidte til at arbejde men ikke er syge nok til at få førtidspension', 'de vil blive klemt siger emilie agner damm', 'forventeligtmona larsen er seniorforsker ved det nationale forsknings- og analysecenter for velfærd vive og har længe forsket i ældre på arbejdsmarkedet og tilbagetrækning', 'hun er enig i at reformen af efterløn ser ud til at have presset flere ældre over i førtidspension', 'men hun vurderer også at stigningen indtil videre ser ud til at svare\\xa0til at andelen\\xa0af 60-64-årige på førtidspension er kommet op på det niveau man kunne forvente i fravær af efterlønnen', 'i 2013 var det 024 pct', ' af de 60-64-årige der var på førtidspension', ' i 2017 var det steget til 057 pct', ' til sammenligning gjaldt det 059 pct', ' af de 55-59-årige samme år – altså stort set samme andel', 'før var det meget få af de 60-64-årige der gik på førtidspension', ' nu er det mere oppe på det niveau man kunne forvente i forhold til deres alder siger mona larsen', 'tallene tyder ifølge hende på at nogle af de nedslidte ældre før har brugt efterlønnen til at trække sig tilbage på en værdig\\xa0måde men at de nu må søge om førtidspension i stedet', 'hun vurderer ligesom ae-rådet at der formentlig findes en ukendt gruppe af nedslidte ældre der nu hverken kan få førtidspension eller efterløn', '’spillet fallit’politikerne bag reformen af efterlønnen forsøgte faktisk at undgå at de mest nedslidte ældre skulle blive klemt når efterlønsalderen steg', ' det gjorde de ved at indføre en såkaldt seniorførtidspension med særligt hurtig sagsbehandling', 'i lovforslaget bag efterlønsreformen forventedes det at 2', '700 personer ville få tilkendt seniorførtidspension i løbet af ordningens to første år', ' men det viste sig at det kun blev til 449', 'det er ikke ret mange i forhold til hvor mange der har mistet muligheden for en værdig tilbagetrækning til efterløn siger emilie agner damm', 'det lave antal tilkendelser fik lo til sidste år at kritisere ordningen for at have spillet fallit', ' i dag kan ældre kun få seniorførtidspension hvis deres arbejdsevne er så lav at de ikke kan blive selvforsørgende gennem ordinært arbejde eller fleksjob', 'lo vil have ændret reglerne så muligheden for et fleksjob ikke skal stå i vejen for at gå på seniorførtidspension', ' desuden mener de ikke at kendskabet til ordningen er udbredt nok', 'til og med 2016 er der blevet tilkendt 763 seniorførtidspensioner mens der er blevet givet 88 afslag', ' det viser tal fra ankestyrelsen', 'det lave antal afslag tyder ifølge lo på at kommunerne ikke oplyser de ældre nok om ordningen og at der derfor ikke er ret mange der søger om seniorførtidspension', 'antallet af\\xa0seniorførtidspensioner er medregnet i de tal\\xa0ae-rådet fremlægger i analysen', \"'meget positivt'beskæftigelsesminister troels lund poulsen v skriver i en mail at det er meget positivt at flere ældre over 60 arbejder\", ' befolkningen bliver ældre og derfor er der behov for at flere bliver på arbejdsmarkedet for at finansiere velfærdssamfundet skriver han', 'ellers er det de næste generationer som kommer til at betale og det er ikke rimeligt', 'ministeren tilføjer at der skal være ordninger for dem der er nedslidte og ikke kan arbejde hvilket allerede findes i form af seniorførtidspension og fleksjob', ' han hæfter sig ved at ni ud af ti som søger seniorførtidspension får den tilkendt', 'for det skal også være sådan at kan man ikke arbejde mere så skal man også have mulighed for at trække sig tilbage skriver han', 'ministeren følger udviklingen på området tæt\\xa0og fremhæver at regeringen har nedsat en tænketank der skal forbedre arbejdslivet for ældre og få dem til at blive længere på arbejdsmarkedet', '\\xa0dens arbejde skal være afsluttet i sommeren 2019', 'endelig skriver troels lund poulsen at regeringen\\xa0sammen med arbejdsmarkedets parter har indgået en trepartsaftale som blandt andet afsætter midler til omskoling af medarbejdere i brancher som kan være hårde at arbejde i hvis man er oppe i årene', 'manuelt arbejdestigningen i tilgang til førtidspension har været særligt høj blandt de 61-årige nemlig 147 pct', ' blandt de 64-årige som endnu ikke er berørt af den højere efterlønsalder har der været en mindre stigning på 25 pct', 'analysen fra ae-rådet viser desuden at det især var folk med manuelt arbejde der før benyttede sig af muligheden af at gå på efterløn som 60-årige', ' det opfatter ae-rådet som et udtryk for nedslidning eftersom det økonomisk bedre ville kunne betale sig at vente til man var fyldt 62', 'det var den gruppe der virkelig havde brug for at trække sig tilbage fordi de var nedslidte og ikke fordi de ville spille golf siger emilie agner damm', 'i 2013 gik knap en tredjedel af medlemmerne i 3f og fødevareforbundet nnf på efterløn som 60-årige', ' det samme gjaldt kun omkring fem pct', ' af medlemmerne i de akademiske a-kasser', 'i 2023 vil efterlønsalderen være steget til 64 år', 'læs ogsåekspert om førtidspensionsændring: positivt men stadig stort rum for fortolkning få overblik fra morgenstundenvi sender dig dagens vigtigste artikler fra information', ' et miks af nyheder debat og det tunge stof', 'e-mail *leave this field blank    ti nye uddannelsesstationer åbner i disse uger for studerende i hedensted hobro rønne og syv andre steder i de mere uddannelsesfattige dele af danmark', 'fremover vil de unge her kunne læse til f', 'eks', ' automationsteknolog datamatiker lærer og serviceøkonom', ' og der er ingen tvivl om at det er en rigtig\\xa0god nyhed\\xa0for hedensted hobro rønne og de øvrige provinsbyer for\\xa0uddannelse er helt\\xa0afgørende for at fastholde den lokale udvikling i mange kommuner', 'oprettelsen af de ti nye uddannelsesstationer er en del af regeringens udflytningsplan fra januar bedre balance ii', ' dengang udtalte daværende uddannelsesminister søren pind v at regeringen med de 160 mio', ' kr', ' til ti nye uddannelsesstationer ville give et ekstraordinært rygstød til videregående uddannelser ude i landet', 'men at kalde det en satsning på mere uddannelse lokalt\\xa0er lidt af en tilsnigelse', ' for de værtsinstitutioner som skal huse de nye uddannelsesstationer skal samtidig skære ned på deres uddannelser for milliarder', ' alene i år skal de erhvervsakademier og professionshøjskoler som udbyder de ti nye lokale uddannelser spare henholdsvis 90 og 273 mio', ' kr', ' omvendt får de så\\xa0ca', ' 40 mio', ' kr', ' om året til at oprette de ti nye uddannelsesstationer', 'selv om de nedskæringsramte institutioner får lidt ekstra til de nye uddannelsesstationer skal erhvervsakademier og professionshøjskoler der allerede\\xa0udbyder uddannelse i det ganske land altså i realiteten\\xa0fyre lærere skære ned på timetal og vejledning på grund af regeringens omprioriteringsbidrag', 'flere nedskæringer i provinsensom en analyse fra arbejderbevægelsens erhvervsråd viste i sidste uge går regeringens nedskæringer på uddannelsesområdet særligt hårdt ud over uddannelser uden for københavn', 'de 160 mio', ' kr', ' til ti nye uddannelsestilbud over de næste fire år\\xa0forslår derfor\\xa0næppe af meget når erhvervsakademierne skal spare ca', ' 550 mio', ' kr', ' og professionshøjskolerne skal spare ca', ' to\\xa0mia', ' kr', ' i den samme periode', 'at vlak-regeringen oven i historisk hårde nedskæringer på de korte og mellemlange videregående uddannelser nu vil have de selvsamme institutioner til også at opbygge nye uddannelser virker ikke just som klog\\xa0uddannelsespolitik', ' og der er nok også snarere tale om lidt forkælelse af udkanten op til et kommende folketingsvalg', 'det er nemlig ikke som vanligt uddannelsesinstitutionerne men politikere og embedsmænd\\xa0der har bestemt hvilke uddannelser\\xa0der skal oprettes hvor', ' ligesom de ti nye uddannelser ikke har været igennem den svære\\xa0godkendelsesproces\\xa0i akkrediteringsinstitutionen som ellers er normal procedure når uddannelsesinstitutioner vil oprette nye uddannelser', '\\xa0derfor bliver det også interessant at se om de politisk bestemte uddannelser kan tiltrække studerende og om kvaliteten af uddannelsen kan opretholdes når der samtidig skal skæres voldsomt ned på værtinstitutionerne', '\\xa0udbuddet af nye uddannelser i regeringens udflytningsplan kunne få det til at lyde som om der kun eksisterer videregående uddannelser i de større provinsbyer', ' men erhvervsakademierne og professionshøjskolerne har allerede ca', ' 90\\xa0lokale videregående uddannelsestilbud rundt omkring i de mindre byer', 'man kan med rette spørge om det er tilstrækkeligt', ' men de voldsomme nedskæringer på uddannelse fra 2016-2021 via regeringens omprioriteringsbidrag virker i hvert fald ikke befordrende på udbuddet af uddannelse lokalt', '\\xa0til gengæld vil de politikere der har fået placeret\\xa0en ny uddannelse i deres valgkreds med sikkerhed tiltrække stemmer', ' uanset\\xa0hvor mange gange regeringen gentager at der er tale om en satsning på mere uddannelse lokalt er der sammenlagt\\xa0tale om det modsatte', ' vlak-regeringen skærer ned på uddannelse – også uden for de store byer', 'læs ogsåudflytningen er en kærkommen lejlighed til at tage hævn over københavneriet og den modernitet det står for  der har netop været skolestart for folkeskolens elever og institutionen har trukket mange overskrifter – særligt om den krise den tilsyneladende befinder sig i', ' det handler om overforbrug af vikarer om stigende elevflugt og om lavt fagligt niveau blandt lærerne', '\\xa0men\\xa0hvor slemt står det egentlig til? information har bedt et folkeskolepanel bestående af\\xa0lærere forskere en studerende og en skoleleder om at stille en diagnose for vores alle sammens skole', ' og hvis institutionen er syg hvad skal der så til i den redningsplan der skal gøre den rask igen?skoleforsker: lad os pille ved skemastrukturenfolkeskolen er jo en 200 år gammel institution hvor visse rigide rammer stadigvæk lever lyder meldingen fra louise klinge der er skoleforsker', ' hun er adjunkt og ph', 'd', ' fra københavns universitets institut for medier erkendelse og formidling', '– er folkeskolen da i krise?ja hvis vi medtager de nationale trivselsmålinger fra 2017 for eleverne på mellemtrinnet og i udskolingen så er svaret desværre at folkeskolen har nogle problemer', ' f', 'eks', ' viser undersøgelsen at under 10 procent af eleverne synes at undervisningen meget tit er spændende og over 30 procent af eleverne oplever at de aldrig eller faktisk sjældent kan fastholde koncentrationen i timen', 'skemastrukturen er et godt eksempel på netop det da vi for længst har besluttet at to gange 45 minutters undervisning er ideelt men det giver ikke nødvendigvis de mest optimale forhold for læring', ' eleverne har nemlig brug for at undervisningen også er mere sanselig før den kan blive vedkommende', ' vi vægter stadig ’ånd fremfor hånd’ og beslutningstagere omkring fagrække og læringsmål er alt for lidt opmærksomme på målgruppen nemlig børn', '– hvordan skal vi så redde folkeskolen?vi bør stille højere krav til lærernes niveau', ' lige nu skal man blot have 7 i gennemsnit for at starte på læreruddannelsen hvilket jo ikke er ensbetydende med at man derfor har eller får gode lærerkompetencer', ' i finland har man nogle steder en to-dages optagelsesprøve hvori man også bliver testet i relation til børn', ' på uddannelsen skal der være langt mere praktik og underviserne skal selv have undervist børn', 'lærer: mere sanselighed på skemaetmalte holm underviser i matematik natur/teknologi og idræt og han synes at krisestemningen er ved at fordufte:– er folkeskolen i krise?det har den været mener jeg men vi er så småt ved at komme over på den anden side igen', ' i mit tilfælde var jeg i starten tilknyttet et lærerteam hvor der var to der fik stress og en anden der var på nippet til at blive sygemeldt med stress også', ' og det var meget hårdt for eleverne da de i skiftende perioder fik forskellige lærere', ' men lige nu er jeg med i et team der er meget mere velfungerende og skolen har et rigtigt godt ry', '– hvordan kan vi så gøre folkeskolen til et bedre sted?vi kunne afskaffe ff-tiden faglig fordybelse red', ' som giver lidt for lange skoledage', ' sidste år havde jeg en 5', '-klasse hvor de skulle sidde og have faglig fordybelse fredag eftermiddag i natur/teknologi', ' eleverne kan ikke fastholde koncentrationen', ' kombineret med den varme som vi har haft er omgivelserne heller ikke gearet til det', ' en anden ting er kravet om motion og aktivitet', ' det virker som om vi lærere ikke er uddannet nok til at inkorporere motion i undervisningen', ' og det bliver tit noget bøvlet noget hvor vi skal forsøge at få pulsen op i en situation hvor børnene skal lære', ' giver det overhovedet mening at fokusere på at elever skal motionere samtidig med at de skal lære noget kognitivt? jeg tror det giver bedre mening at gøre de to ting separat', ' derimod tror jeg at sanseoplevelser i undervisningen i højere grad er værd at satse på', 'lektor: giv lærerne arbejdsrotilde mardahl hansen er adjunkt på ucl i center for anvendt velfærdsforskning og har forsket i læreres hverdagsliv i folkeskolen', ' hun synes at vi skal være bedre til at lytte til lærernes erfaringer når folkeskolen skal udvikles', '– er folkeskolen i krise? det vil jeg mene', ' lærerne har de seneste år været underlagt et reform- og forandringspres', ' der har været stor politisk handleiver på skoleområdet hvilket blandt andet har betydet at mange lærere har oplevet at mangle handlerum og handlemuligheder i forhold til at løfte de lærerfaglige opgaver som de står med i hverdagen', ' derfor er det vigtigt at pege på nødvendigheden af at give lærerne arbejdsro', ' læreres ofte kreative og modsætningsfyldte arbejde i forhold til at udvikle alle børns deltagelse og læring i folkeskolen kan være svært at få øje på', '– hvordan redder vi så folkeskolen?hvis vi vil gøre noget for folkeskolen så skal vi give de professionelle gode betingelser for at løse de komplekse vanskeligheder og ofte modsætningsfulde opgaver de står med i deres daglige arbejde', ' fokus har været på kompetencer mål og problemplacering lad os dog tale mere om læreres muligheder og begrænsninger', ' det kan netop have en positiv indflydelse i arbejdet med at udvikle børns læring og trivsel i hverdagen i folkeskolen', 'tænketanksdirektør: folkeskolen er meget mere mangfoldig end man skulle tronår så mange vælger andre skoleformer så er det en krise for folkeskolen siger den administrerende direktør hos tænketanken dea stina vrang elias der har fokus på uddannelse forskning og innovation', 'hun er overbevist om at fravalget ikke alene har med kvaliteten af folkeskolen at gøre men at debatten om folkeskolereformen og striden om lærernes arbejdstid i forbindelse med ok18 også har ledt til at forældre vender sig imod folkeskolen', ' og det kan hun godt forstå siger hun for det er forståeligt at ingen vil gøre sit barns skolegang til et socialt eksperiment', '– men hvad er problemet med folkeskoledebatten?debatten mangler nuancer', ' der er stor forskel på land og by hvor man udenfor de store byer ofte har valgt fri- og privatskolerne til fordi den lokale folkeskole er blevet lukket', ' i de større byer kan det måske – udover kvalitet og elevsammensætning – handle om hvilket signal man vil sende til omverdenen ved at lade sit barn gå i fri- eller privatskole', ' det er klart et aktivt fravalg som er et problem i forhold til mangfoldighed i storbyernes skoler', ' og det valg bliver ikke hjulpet af den krisestemning som medierne pisker op lyder det fra stina vrang elias', '– hvordan kommer vi så problemet med folkeskolen til livs? de positive historier skal vinde frem hvis vi skal redde folkeskolen', ' helt konkret kunne jeg godt tænke mig at de skoler der klarer sig godt lærer fra sig så vi ved hvad der virker', ' i svendborg har man f', 'eks', ' implementeret mere idræt fordelt på ugens undervisningstimer', ' det har betydet at kommunen har halveret antallet af tykke børn', ' på min søns skole har man indført årgangsundervisning dvs', ' at eleven ikke er tilknyttet en fast klasse og det har fungeret godt', ' den historie bliver ikke fortalt', ' men folkeskolen er meget mere mangfoldig end man skulle tro', 'tidligere lærer: lærerne er ikke rustet til inklusion\\xa0jeg havde undervist som lærervikar før og undervejs i studiet men lige pludselig skulle jeg forholde mig til de nye regler om dokumentationskrav og inklusion', ' det kunne jeg\\xa0slet ikke identificere mig med og jeg følte at det skulle ske på bekostning af min faglighed', 'sådan lyder det fra zara schytte der oprindeligt er uddannet folkeskolelærer men er\\xa0i gang med at videreuddanne sig i pædagogisk sociologi', ' hun opgav\\xa0at arbejde som\\xa0lærer da folkeskolereformen trådte i kraft tilbage i 2014', 'hun kunne mærke at stemningen fra lærernes lockout i 2013 smittede af på\\xa0motivationen og derfor opgav hun at undervise i folkeskolen', '\\xa0– er folkeskolen i krise?\\xa0\\xa0ja for man bevæger sig\\xa0væk fra lærernes kerneopgave nemlig at undervise og bruger mere tid på dokumentationskravet', ' samtidig ligger fokus på\\xa0evaluering og hele tiden at skulle\\xa0forholde sig til faglige mål som gør at man ikke har samme tid til at lave spændende undervisning', ' selv nu hvor folkeskolereformen kører for fjerde år i træk kan man stadig mærke de negative effekter af den', ' flere lærere fravælger folkeskolen på grund af de dårlige arbejdsvilkår og flere er gået ned med stress', ' de ressourcestærke familier flytter deres børn til privatskolerne som ikke er underlagt de samme krav', ' en tendens som i værste tilfælde vil føre til en a- og b-skole siger zara schytte', '\\xa0ifølge hende skal kravet om journalføring sløjfes så det ikke stjæler tid fra lærernes forberedelsestid', ' hendes bud\\xa0på en konkret løsning der kan få skolen ud af krisen er at ændre på håndteringen af inklusion', 'lærerne er ikke rustet til inklusionen som sådan', ' der er brug for støtte til eleverne med særlige behov for at en lærer ikke står alene med 28 elever hvoraf de tre har forskellige diagnoser', ' dette går ud over undervisningens kvalitet da læreren ikke har ressourcerne og tiden til at gennemføre god differentieret undervisning uden støtte', ' vi risikerer at tabe en hel generation på gulvet når lærerne har så pressede arbejdsvilkår', 'skoleleder: der vil altid være nogen der vælger folkeskolen fraclaus hjortdal der er formand for skolelederforeningen og\\xa0har mange års erfaring som lærer samt skoleleder er kritisk over for det billede af folkeskolen som bliver tegnet i medierne', '– er folkeskolen da ikke i krise?nej', '\\xa0det er min vurdering at det slet ikke står så slemt til som det vises i medierne', ' i december fik vi en tilfredshedsundersøgelse retur der viser at 95 procent af forældrene samlet set er tilfredse eller meget tilfredse med deres barns skole', ' elevernes tilfredshed er meget høj og de siger selv at de oplever mere ro i timerne specielt i de højere klasser', ' ydermere er der sket et markant løft for de elever der kommer med anden etnisk baggrund end dansk hvilket viser at folkeskolen har løst sin opgave', ' men\\xa0der vil altid være nogen der vælger folkeskolen fra medgiver han', '– så hvor er folkeskolen på vej hen?hvis folkeskolen fortsætter i den udvikling som vi er i kommer vi helt sikkert til at se en endnu stærkere folkeskole inden længe lyder det fra\\xa0claus hjortdal', '\\xa0lærerstuderende: vi skal få de unge til at søge indhelene kjøller er lærerstuderende på andet år og hun er bekymret for om hendes kommende profession bliver underkendt', '– er folkeskolen i krise?ja og vi bliver nødt til at ændre på diskursen hvis vi gerne vil have at folkeskolen ikke får et blakket ry', ' jeg ved at undervisning er mit kald men de fleste synes at det at være lærer er et utaknemmeligt job', ' jeg er bekymret for at faget ikke kommer til sin ret som et vigtigt og ikke mindst enormt spændende job', '\\xa0det bekymrer mig at medier og politikere har så meget magt over ungdommens uddannelsesvalg', ' både sygeplejersker og erhvervsuddannelser er nogle af dem som har mærket konsekvensen af diskurser omkring deres fag', ' det farlige er at vi pludselig står og mangler fagpersoner og så skal man ændre kurs for igen at få de unge til at søge ind', '– hvordan redder vi så folkeskolen?\\xa0\\xa0det bliver en udfordring at rette op på de omstændigheder der gør sig gældende for folkeskolen lige nu', ' offentligheden er meget optaget af at vores elevers faglige niveau hele tiden skal forbedres', ' det er jeg ikke nødvendigvis uenig i', ' men jeg mener at vi i stedet skal fokusere mere på at folkeskolen først og fremmest er en dannelsesinstitution', ' vi skal tale mere om at lærerne står med et stort ansvar for at sende internationale og demokratiske unge ud der har respekt og forståelse for den omverden de begår sig i', ' sådanne kompetencer er svære at lave statistikker over', ' vi må som lærere ikke lade os tynge af at lærerfaget lige nu er sat under pres', ' vi skal fortsat være stolte over at kunne kalde os for folkeskolelærere', 'læs ogsåvi skulle skabe den skole som vi selv ville vælge til vores børn få overblik fra morgenstundenvi sender dig dagens vigtigste artikler fra information', ' et miks af nyheder debat og det tunge stof', 'e-mail *leave this field blank    den danske statsminister er en karakter med litterære kvaliteter', ' lars løkke rasmussen\\xa0kunne være en\\xa0skikkelse i en roman af en epigon af henrik pontoppidan som ikke ville kunne stå for fristelsen til at kalde den lykke lars', 'vores hovedperson var en stræbsom ung mand med store socialteknologiske visioner for velfærdsstaten i det 21', ' århundrede og en voldsom vilje til magt – og fest', ' tidligt engagerede han sig i ungdomspolitik og lokalpolitik', ' blev landsformand for venstres ungdom og amtsborgmester i frederiksborg', 'lykke lars var et barn af velfærdsstaten men også af det borgerlige opgør med socialdemokratismen', ' han gjorde karriere i omdannelsen af den generøse velfærdsstat til den ambitiøse konkurrencestat', ' han steg i graderne blev næstformand i det parti der var blevet landets største og siden indenrigsminister og sundhedsminister', 'kronprinsen lykke lars førte ikke ideologisk kulturkamp men lavede administrative reformer', ' danmarkskortet blev gentegnet små kommuner blev nedlagt og store kommuner oprettet amterne dræbt og regioner blev skabt', ' borgerne fik løfter kontrakter og garantier i lykke lars’ socialteknologiske kongerige', 'hans reformer var ikke et liberalistisk opgør med den offentlige sektor men en nyliberalistisk effektivisering af den hvor markedet blev brugt til at udvikle optimere staten og konkurrence til at optimere de offentligt ansatte', ' det var ikke en udvikling lykke lars skabte den var en del af større historisk forandring', ' men han prægede den og han forvaltede den', 'formanden fogh vandt borgernes gunst førte værdikamp og ville ændre\\xa0ordenes betydning i offentligheden', ' men det var kronprinsen der gennem teknokratiske reformer og sindrige moderniseringer satte sin signatur på den velfærdsstat som blev beundret vidt og bredt i hele verden', 'til sidst blev kronprinsen konge men borgerne og tænkerne kunne ikke se lille lars som deres leder', ' de kaldte ham for vikaren', ' han havde vundet kampen om staten i kontorerne men folket elskede ham ikke', ' de var heller ikke bange for ham – og det var endnu værre', 'folkets forhold til ham var underligt', ' han var folkelig i en tid hvor politikere blev beskyldt for at være elitære', ' talte sprog som alle kunne forstå spiste den samme mad som undersåtterne kunne ikke holde op med at ryge og lignede en hyggelig onkel man kunne møde på en campingplads', ' og han var en storartet politisk begavelse som kunne overskue alle kongerigets institutioner systemer kontrakter og avancerede mekanismer', 'i 2011 kom så det forunderlige valg hvor det borgerlige danmark tabte regeringsmagten men lykke lars kæmpede så bravt for sin trone i valgkampen at han turnerede på gader og stræder stillede op i debatter og fremlagde nye store reformer', 'folket oplevede lykke lars som det politiske dyr og den store fighter', ' endelig forklarede han hvad han ville med danmark og viste dem hvordan han\\xa0både var en af dem og deres første mand', ' derefter ventede danmark kun på at lykke lars skulle blive statsminister igen', 'men her kommer det dæmoniske ind i romanen', ' for lykke lars mødte en frygtelig fjende der hverken kom fra de politiske modstandere eller hans eget parti', ' det var ham selv som privatperson', 'det blev afsløret hvordan han drak spiste købte tøj overnattede i andres sommerhuse og transporterede sig for andres penge', ' intet beløb var for lykke lars for småt til at blive bogført – og betalt af fælleskasserne', ' hver gang lykke lars havde kæmpet for sit liv på monumentale pressemøder og gennem\\xa0timelange taler blev han kastet tilbage i sølet af\\xa0af nye afsløringer\\xa0om sin egen elendige karakter', 'han mistede sine allierede nedsled sine kammerater og svigtede dem der havde støttet ham', ' det borgerlige danmark han havde samlet og defineret gennem sine reformer tabte og splittede han politisk', 'nu kæmper han alene for en regering som allerede længe har set ud som om den var fortabt', ' hans få tilhængere vil til det sidste fortælle historien om lars løkke rasmussen som det 21', ' århundredes største politiske begavelse i danmark', 'de efterhånden mange trætte vælgere og politikere kan ikke længere se statsmanden for privatpersonens udskejelser pinlige episoder grænseoverskridelser og tarvelige skandaler', ' det eventyrlige er at den mand som længe har lignet et politisk nederlag endnu ikke har mistet magten', '\\xa0men den måske bedste fortælling om ham er i den diabolske vekselvirkning mellem statsmanden og privatpersonen mellem løkke som overskuer og regerer landet og løkke som var ude af stand til at holde styr på sine egne og\\xa0styre sig selv', 'læs ogsåinformations sommerrevy: lars løkke rasmussens duet  da kampvogne og soldater fra sovjetunionen ddr polen ungarn og bulgarien efter midnat onsdag den 21', ' august 1968 rullede ind over grænsen til tjekkoslovakiet sænkede kulden sig over europa', ' det spinkle håb om en mere demokratisk og fri udvikling i østeuropa – socialisme med et menneskeligt ansigt – som det såkaldte tjekkiske forår havde vakt blev endegyldigt mast under larvefødderne fra warszawapagtens kampvogne i de tidlige morgentimer', 'den knugende frygt er forbi', ' den militære opmarch langs tjekkoslovakiets grænser er ikke længere bare manøvrer hed det således i informations forsideleder allerede den 21', ' august der kaldte invasionen for den uden sammenligning skændigste og mest frastødende begivenhed i europas tilværelse siden den 2', ' verdenskrig', '\\xa0 informations forside\\xa0den 21', ' august 1968', 'for den danske venstrefløj kom den brutale besættelse af tjekkoslovakiet til at trække lange spor', ' den var med til at præcisere at der fandtes en anden venstrefløj end kommunisterne', 'tidligere forskningsbibliotekar morten thing opholdt sig i prag den onsdag da invasionen fandt sted', ' ved selvsyn så han på nærmeste hold hvordan hovedstadens befolkning protesterede mod kampvognene', 'jeg var i prag med min kæreste der skulle deltage i en konference', ' vi boede på studenterhotellet og klokken fem den morgen blev jeg vækket af en amerikaner der kom løbende hen ad gangen: ’the russians are coming ', '', '', '’ jeg tænkte sådan en sindssyg amerikaner men så hørte jeg en lyd som om det var vejarbejde nede på gaden fortæller morten thing', 'da han kiggede ud ad vinduet var hele gaden fyldt med kampvogne', 'vores første tanke var at det skulle vi ned og se på så vi skyndte os at få noget at så spise og tog så ind på den største plads vaclavske namesti der var fyldt med mennesker og en masse tanks', 'i den ene ende stod der en enkelt kampvogn den prøvede at få folk til at flytte sig ved at speede op men de flyttede sig overhovedet ikke', ' på et tidspunkt var der en mand der kravlede op på kampvognen og skruede antennen af så besætningen ikke havde radiokontakt', 'morten thing husker at de unge sovjetsoldater blev overrasket over at tjekkerne kunne tale russisk', 'soldaterne var 18-19 års drenge og folk råbte ’okkupanter gå hjem’', ' først da nogen begyndte at skyde i den anden ende begyndte folk at løbe', ' vi spænede også ned af en gade og projektilerne rikochetterede efter os', ' til sidst fandt vi en opgang der ikke var låst og løb helt op på femte sal hvor vi så sad og hvilede med bankende hjerter', 'inden den danske ambassade fik organiseret et tog der kunne køre 30-40 danskere ud af landet gik morten thing og hans kæreste gennem byen', 'midt på en af de store pladser lå der en sporvogn som var blevet kørt over af en kampvogn og var klemt fuldstændig sammen på midten husker han', 'protester i københavnfra hele verden – de socialistiske lande undtaget – kom der protester og i danmark blev der samme dag arrangeret demonstrationer og protestmøder', ' foran den sovjetiske ambassade på østerbro i københavn og på rådhuspladsen mødtes borgerlige og socialister i fælles afsky og her talte bl', 'a', ' erik sigsgaard fra det nystiftede parti venstresocialisterne og sf’s partiformand aksel larsen', ' kun de danske kommunister glimrede ved deres fravær', 'besættelsen førte til en forstærkelse af spændingerne mellem det man kaldte det nye venstre og så de traditionelle kommunistiske partier erindrer historiker niels finn christiansen der dengang var medlem af vs’ internationale udvalg', ' han husker tydeligt demonstrationen foran sovjetambassaden i kristianiagade', 'besættelsen gjorde det klart for alle at det nye venstre havde andre målsætninger for den socialistiske fremtid og visioner end hvad vi kunne finde i sovjet-kommunismen', ' først og fremmest skulle man sikre demokratiet og arbejde for et socialistisk demokrati som adskilte sig fra regimerne i østeuropa', ' der var brede dele af venstrefløjen som ikke ville acceptere danmarks kommunistiske partis tolkninger af hvad kommunisme er', ' det var en splittelse som fortsatte op gennem 1970’erne og 80’erne helt frem til dannelsen af enhedslisten siger han', 'også historikeren claus bryld der ligeledes var vs’er dengang deltog i demonstrationen foran den sovjetiske ambassade:vi var jo vant til at demonstrere mod vietnamkrigen foran den amerikanske ambassade og mod franco-styret foran den spanske', ' men nu skulle vi demonstrere sammen med højrefløjen', ' det var lidt mærkeligt og det var der også mange der havde reservationer over for siger han', 'der var nemlig fortsætter claus bryld mange på venstrefløjen som mente at man ikke skulle puste for meget til ilden under den kolde krig og navnlig ikke støtte krigshetzere og den voldsomme amerikanske propaganda mod ussr og mod kommunismen', 'på venstrefløjen var man jo alvorligt bange for at det skulle komme til krig mellem usa og ussr hvad der jo faktisk også var ved at ske tilføjer han', 'pelle voigt tidligere formand for sf’s ungdomsorganisation og folketingsmedlem for sf deltog i demonstrationen på rådhuspladsen:det var den socialistiske klub på b&w skibsværft der rykkede ud og alt hvad der kunne krybe og gå var med fortæller han', 'invasionen fik stor betydning for vores diskussioner her i danmark af hvad socialisme egentlig er for noget', ' inspirationen fra studenterbevægelsen i frankrig tyskland og usa flød sammen med en enorm indflydelse af en almindelig oprørsånd og frihedstrang og sammen med invasionen i tjekkoslovakiet viste det at der var brug for en demokratisering både i øst og vest tilføjer pelle voigt', 'invasionen blev lakmusprøvepreben wilhjelm der var folketingsmedlem for vs ser også invasionen som en vigtig markør for den danske venstrefløj', 'den kom til at betyde en større bevidsthed om forholdet mellem mål og midler siger han', 'han ser warszawapagtens invasion som den første lakmusprøve på om hensigten helliger midlet', 'og det kan hensigten jo ikke', ' midlerne vil altid kompromittere hensigten', ' så selv hvis russerne havde haft gode hensigter med deres invasion så ville det stadig ikke være i orden', ' der kan nemlig ikke være andre regler for dem man holder med end for dem man ikke holder med', ' det var helt principielt og det var for mange unge der blev venstreorienterede den første indikator på at der ikke kunne være en lemfældighed om mål og midler ligegyldigt om det så var cubanske tropper i afrika eller besættelsen af afghanistan 11 år senere', 'morten thing der havde været medlem af sf’s ungdomsorganisation frem til dannelsen af vs husker at han inden invasionen – lidt naivt som han erkender i dag – havde forestillet sig at der med det tjekkiske forår kunne komme ændringer i østeuropa', 'men besættelsen viste at det stadig var den senile stalinisme der var ved magten', ' besættelsen førte til en opstramning af de socialistiske dagsordener herhjemme', ' for os blev invasionen et symbol på at dét vi skulle kæmpe for skulle fundamentalt adskille sig fra det man kendte fra østeuropa siger han og tilføjer:besættelsen gjorde det bestemt ikke nemmere at sælge vores budskaber', ' folk havde jo en forestilling om at kommunisme var det man så i sovjetunionen', ' vi blev tvunget til at forklare at dét vi ville var meget nærmere det som den tjekkiske befolkning havde været i gang med at udvikle men som blev stoppet og knust af besættelsen', 'blev mere antiautoritærtidligere arbejdsmiljøkonsulent karen mygind var også i prag den 21', ' august 1968 og så de sovjetiske kampvogne på tæt hold akkurat som morten thing', 'efter den rejse var jeg grundigt vaccineret over for de stalinistiske organisationer', ' jeg har altid været antistalinist efter den oplevelse', ' jeg blev mere antiautoritær af at se en autoritet smadre en befolkning på tæt hold', ' hele den antiautoritære del af ungdomsoprøret og venstrefløjen tog næring fra hvad der skete i tjekkoslovakiet siger karen mygind', 'i august 1968 var den senere avisredaktør peter wivel på vej hjem fra ferie i italien og så undervejs lange militærkolonner i polen', 'besættelsen af tjekkoslovakiet var en katastrofe og var med til at gøre det nye venstre til det tredje standpunkt mellem warszawapagten og nato', ' besættelsen af tjekkoslovakiet blev dermed et brud hvor en uortodoks og mange gange kaotisk venstrefløj meldte sin ankomst på scenen erindrer han', 'else dombernowsky der var skolelærer og vs-kommunalbestyrelsesmedlem husker invasionen som meget skelsættende for vs', 'vi diskuterede det tjekkiske forår i vs og vi gik ind for den liberalisering der var i gang', ' og da invasionen fandt sted mente partiets hovedbestyrelse at når et stort land invaderer et mindre land så er det uanset hvad de kalder sig forkert', ' det var der nogle der ikke mente var klogt så det var der en vældig ballade om fordi nogle mente at kritikken af ussr var alt for voldsom', 'selv var jeg helt enig med hovedbestyrelsen i at invasionen var et tilbageslag for socialismen overalt i verden husker else dombernowsky', 'læs ogsåinformations møde med kampvogne i prags gader i 1968 få overblik fra morgenstundenvi sender dig dagens vigtigste artikler fra information', ' et miks af nyheder debat og det tunge stof', 'e-mail *leave this field blank    det markedsbaserede neoliberale system med omsættelige fiskekvoter har fejlet', ' rundt om i verden har det vist sig at have en stribe negative konsekvenser for fiskerierhvervet og ødelæggende følger for fiskebestandene og det marine miljø', 'det er konklusionen på et internationalt forskningsprojekt med deltagelse af 22 forskere fra otte lande heriblandt danmark – et studie som i dag offentliggøres i det ansete amerikanske tidsskrift proceedings of the national academy of sciences pnas', 'studiets omdrejningspunkt er den fare ved at tænke i universalløsninger som kvotesystemet er eksempel på: forenklede politiske redskaber der tages bredt i anvendelse uden tanke på de mulige ulemper eller særlige lokale omstændigheder', ' man forestiller sig at sådanne universalløsninger kan bringe både økonomisk effektivitet og miljømæssig bæredygtighed men virkeligheden er ofte en anden viser forskningsprojektet om fiskekvoter kaldet ’individuelle overdragelige fiskerikvoter’ iok’er', 'systemet med iok’er bygger på simple markedsbaserede løsninger hvor man kan købe og sælge rettighederne til at fiske en bestemt mængde af en bestemt fiskebestand', ' og det lyder jo dejlig enkelt men vi kan se at fiskerikvotesystemet både skaber miljøproblemer og en koncentration af magten i fiskeriindustrien med sine monopollignende ejerskaber af fiskeressourcerne', ' det medfører risiko for korruption og magtmisbrug siger postdoc lau øfjord blaxekjær nordic institute of asian studies på københavns universitet som er dansk deltager i projektet sammen med professor jesper raakjær aalborg universitets institut for planlægning', 'artiklen i pnas fastslår at der er mange veldokumenterede negative bivirkninger og utilsigtede konsekvenser forbundet med iok’er', 'iok’er har forårsaget kulturelle omvæltninger via udelukkelse af indfødte og selvforsynende brugere i usa canada og new zealand resulteret i kvote-oligopoler et oligopol er en markedsform domineret af få udbydere red', ' manglende fleksibilitet og økonomiske trængsler i island danmark storbritannien og færøerne samt fejlet med at forebygge bestandsreduktioner eller forpurret anstrengelser for genopbygning i adskillige fiskerier i grønland holland canada australien og internationale farvande hedder det', 'kvotekongernei danmark er ’kvote-oligopoler’ kendt fra debatten om de såkaldte kvotekonger', ' systemet med salgbare fiskekvoter blev indført herhjemme i 2003 som forsøgsordning for sild i 2004 udvidet til også at gælde makrel tobis sperling m', 'm', ' og i 2007 gjort permanent samt også gældende for bundfisk som torsk rødspætte kuller pighvar m', 'm', ' i praksis var hele fiskeriet hermed underlagt det ny system', 'før indførelsen af de omsættelige kvoter havde alle fiskefartøjer lige adgang til at fiske en bestemt ration pr', ' uge eller måned med rationen bestemt af skibets størrelse', ' rationen kunne ikke overføres til en senere periode endsige sælges', 'dette system blev skiftet ud med de salgbare kvoter i bestræbelsen på at løse problemet med en dansk fiskerflåde der dengang var for stor i forhold til skrumpende fiskebestande for gammel og med for dårlig økonomi', 'antagelsen bag reformen var at ved at markedsliggøre fiskerirettighederne ville markedskræfterne sikre en løbende tilpasning som ville samle fangstmulighederne hos de fiskere der med moderne fartøjer bedst kunne levere den højeste kvalitet af fisk skriver rigsrevisionen i sin redegørelse fra sidste år om den politiske reform der indførte kvoterne', 'det mål må i den grad siges at være nået om end med alvorlige omkostninger', ' de mindre fiskere herunder de danske kystfiskere var ikke kapitalstærke og i stand til at investere så meget i kvoterne som de store trawlere og rederier og derfor er de gradvist blevet trængt ud af erhvervet', ' som rigsrevisionen formulerer det:generelt har udviklingen fulgt devisen: jo større fartøjer jo bedre økonomi', ' de største fartøjer på over 40 meter havde allerede fra reformens start en tilfredsstillende økonomi som gradvist er blevet forbedret', ' nøgletallene for disse fartøjers økonomi viser en særdeles tilfredsstillende udvikling', ' derimod har små fartøjer under 15 meter haft en utilfredsstillende økonomi i hele perioden 2003-2012', 'så udviklingen er gået mod stadig færre men samtidig stadig større fartøjer i gruppen af store fiskefartøjer mens flåden af mindre både er drastisk reduceret', ' de 16 største ejere af iok-kvoter samlet i 10 selskaber har ifølge rigsrevisionen øget deres andel af den samlede kvote fra 50 pct', ' til 66 pct', ' bare siden 2012', 'halvdelen af de små fartøjer der fisker kystnært er forsvundet siden 2005', ' af egentlige kystfiskersamfund hvor kutterne trækkes op på stranden er der kun ét tilbage: thorup strand ved jammerbugten', ' gennem de seneste 10 år er erhvervsfiskeriet fra 26 danske havne ophørt', 'i bestræbelserne på at erhverve sig flere kvoter har de store aktører ’kvotekongerne’ lavet selskabs- og ejerskabskonstruktioner der i perioder bl', 'a', ' har gjort det uvist for myndighederne hvem der egentlig ejede en del af kvoterne', ' greenpeace kunne sidste år påvise at svenske fiskerivirksomheder via danske datterselskaber har opkøbt danske fiskekvoter for over en milliard kr', 'den allerstørste ejer af danske kvoter på industrifisk som sild og makrel er således det svenske selskab astrid fiskeri\\xa0der sidste år havde en omsætning på godt 425 mio', ' svenske kr', 'et andet af de svenske selskaber themis fiskeri der er sveriges næststørste fiskerivirksomhed ejer udelukkende danske – ingen svenske – fiskekvoter', 'denne udvikling mod stadig færre stadig større fartøjer på få hænder har ikke kun haft negative konsekvenser for de mindre fiskere fiskerisamfund og havne', ' det har også øget presset på havmiljøet', ' de meget store bomtrawlere pløjer havbunden op med deres tunge grej og ødelægger dermed både levesteder for liv i havet og fiskemuligheder for mindre fartøjer med mere skånsomme redskaber og metoder', 'nyt system påkrævetdet er en udvikling som denne i danmark forskerne bag kortlægningen i pnas-studiet\\xa0beskriver og advarer imod', 'de individuelle fiskekvoter har ført til stor ulighed mellem ejerne af de store etablerede fiskerivirksomheder – de såkaldte kvotekonger – og yngre fiskere og mindre fiskerivirksomheder hedder det bl', 'a', ' i pressemeddelelsen der ledsager offentliggørelsen', 'den udbredte brug af iok’er har medført at bifangster i dag bliver smidt ud og forhindrer ikke overfiskeri tilføjes det', 'de 22 forskeres fokus er forestillingen om kvotesystemet som en universalløsning der kan bruges overalt uanset særlige lokale og aktuelle forhold', ' de taler om ’universalløsnings-mentaliteten’ der opstår og breder sig når komplekse problemstillinger så som regulering af fiskeriet beskrives forenklet og dermed leder til forsimplede løsninger', 'konkret ser de det neoliberale økonomiske paradigme som den forsimplede fortælling der har lokket til forestillingen om at alt kan klares via markedet dvs', ' ved introduktion af kvoter der kan handles frit', 'det understreger markedskræfterne som alternativ til regulering idet man ignorerer markedsfejl transaktionsomkostninger og de fleste former for eksternaliteter samtidig med at det neoliberale paradigme ignorerer de sociale politiske og økonomiske realiteter der danner rammer for samfundets håndtering af fiskeriet', 'den gradvise opsplitning af fiskerierhvervet er en selvforstærkende konsekvens af de salgbare kvoter mener forskerne: jo flere kvoter kapitalstærke fiskevirksomheder får samlet sammen jo mere fokuseret bliver de på at sikre forrentning af de store investeringer og lån der har muliggjort kvoteopkøbene', ' denne\\xa0bevægelse i retning af monopolstatus fjerner deres opmærksomhed fra fiskeriets økologiske konsekvenser såvel som de sociale konsekvenser af at mindre fiskere marginaliseres eller tvinges i knæ', 'og når indbyggerne i de fiskersamfund som mærkerne omkostningerne af det forsimplede kvotesystem har ringe politisk magt så har beslutningstagere få incitamenter til at forholde sig til deres bekymringer', 'dette handler ikke kun om social retfærdighed', ' som følge af deres afhængighed af lokale ressourcer har disse samfund større interesse i at beskytte det lokale økosystem skriver forskerne og henviser bl', 'a', ' til de danske kystfiskersamfund hvor fiskere i 2014 begyndte at organisere sig i foreningen for skånsomt kystfiskeri', 'lau øfjord blaxekjær understreger at det beskrevne paradigme hersker og skaber problemer mange andre steder end i fiskeriet', 'vores forskning viser hvor udbredt den tænkning er over hele verden og at vi grundlæggende har brug for at udfordre den måde at forvalte klodens ressourcer siger han', 'kvotesystemet og iok’erne bunder i en neoliberal politisk økonomi der også er helt eller delvist skyld i de klimaforandringer og miljøproblemer og mangel på reelle løsninger vi i øvrigt ser i dag', 'professor jesper raakjær understreger at selv om kvotesystemet ikke som i dag bør bruges som universalløsning for alle typer fiskeri så kan det godt have berettigelse i konkrete situationer f', 'eks', ' i det nordøstatlantiske fiskeri på sild makrel m', 'm', 'desuden bør de fiskere der får kvoterne betale en ressourceskat som det kendes for udnyttelse af andre typer af naturressourcer f', 'eks', ' olieudvinding i nordsøen så myndighederne kan sikre at udnyttelsen af et offentligt gode – fiskeressourcerne – kommer hele samfundet til gavn og ikke kun en lille gruppe enkeltpersoner siger jesper raakjær', 'forskerne bag studiet offentliggjort i pnas anbefaler et opgør med det udskældte iok-system via oprettelse af en åben global database der samler forskning og erfaringer med konkrete måder at forvalte fiskeriet for dermed at bane vej for bedre løsninger', ' få overblik fra morgenstundenvi sender dig dagens vigtigste artikler fra information', ' et miks af nyheder debat og det tunge stof', 'e-mail *leave this field blank  ']"
     ]
    },
    {
     "name": "stdout",
     "output_type": "stream",
     "text": [
      "\n"
     ]
    }
   ],
   "source": [
    "print(texts)"
   ]
  },
  {
   "cell_type": "code",
   "execution_count": 314,
   "metadata": {},
   "outputs": [
    {
     "data": {
      "text/plain": [
       "<gensim.models.word2vec.Word2Vec at 0x20a085eb588>"
      ]
     },
     "execution_count": 314,
     "metadata": {},
     "output_type": "execute_result"
    }
   ],
   "source": [
    "model"
   ]
  },
  {
   "cell_type": "code",
   "execution_count": null,
   "metadata": {},
   "outputs": [],
   "source": []
  }
 ],
 "metadata": {
  "kernelspec": {
   "display_name": "Python 3",
   "language": "python",
   "name": "python3"
  },
  "language_info": {
   "codemirror_mode": {
    "name": "ipython",
    "version": 3
   },
   "file_extension": ".py",
   "mimetype": "text/x-python",
   "name": "python",
   "nbconvert_exporter": "python",
   "pygments_lexer": "ipython3",
   "version": "3.6.6"
  }
 },
 "nbformat": 4,
 "nbformat_minor": 2
}
