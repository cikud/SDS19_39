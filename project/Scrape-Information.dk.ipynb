{
 "cells": [
  {
   "cell_type": "markdown",
   "metadata": {},
   "source": [
    "# Getting data from [Information.dk](https://www.information.dk)\n",
    "- Be aware of time-delay!!!"
   ]
  },
  {
   "cell_type": "markdown",
   "metadata": {},
   "source": [
    "### Import packages"
   ]
  },
  {
   "cell_type": "code",
   "execution_count": 2,
   "metadata": {},
   "outputs": [],
   "source": [
    "import pandas as pd\n",
    "import numpy as np\n",
    "import requests\n",
    "import random\n",
    "import time\n",
    "from tqdm import tqdm\n",
    "from bs4 import BeautifulSoup\n",
    "import re"
   ]
  },
  {
   "cell_type": "markdown",
   "metadata": {},
   "source": [
    "### Get list of dates\n",
    "- Set start_dt/end_dt for the desired time span"
   ]
  },
  {
   "cell_type": "code",
   "execution_count": 5,
   "metadata": {},
   "outputs": [],
   "source": [
    "from datetime import timedelta, date\n",
    "def daterange(date1, date2):\n",
    "    for n in range(int ((date2 - date1).days)+1):\n",
    "        yield date1 + timedelta(n)\n",
    "#Define the interval for possible scraping articles \n",
    "start_dt = date(2018, 8, 20)\n",
    "end_dt = date(2018, 8, 20)\n",
    "dates=[]\n",
    "for dt in daterange(start_dt, end_dt):\n",
    "    dates.append(dt.strftime(\"%d-%m-%Y\"))"
   ]
  },
  {
   "cell_type": "markdown",
   "metadata": {},
   "source": [
    "### Get list of 'Dagens Avis'  for the desired timespan"
   ]
  },
  {
   "cell_type": "code",
   "execution_count": 6,
   "metadata": {},
   "outputs": [
    {
     "data": {
      "text/plain": [
       "['https://www.information.dk/dagensavis/20-08-2018']"
      ]
     },
     "execution_count": 6,
     "metadata": {},
     "output_type": "execute_result"
    }
   ],
   "source": [
    "import requests, re, time\n",
    "from bs4 import BeautifulSoup\n",
    "\n",
    "url='https://www.information.dk/dagensavis/'\n",
    "url_il=[]\n",
    "\n",
    "for date in dates:\n",
    "    url_il.append(url+date)\n",
    "url_il"
   ]
  },
  {
   "cell_type": "markdown",
   "metadata": {},
   "source": [
    "### Get all links within a section\n",
    "- Put in the desired newspaper sections in section[]"
   ]
  },
  {
   "cell_type": "code",
   "execution_count": 7,
   "metadata": {},
   "outputs": [
    {
     "name": "stderr",
     "output_type": "stream",
     "text": [
      "100%|██████████| 1/1 [00:00<00:00,  7.43it/s]\n"
     ]
    },
    {
     "data": {
      "text/plain": [
       "['https://www.information.dk/indland/2018/08/historien-graa-guld-paa-arbejdsmarkedet-kun-halve-sandhed-flere-aeldre-gaar-paa-foertidspension',\n",
       " 'https://www.information.dk/indland/2018/08/regeringen-satser-paa-nye-uddannelser-provinsen-mens-skaerer-paa-uddannelser-provinsen',\n",
       " 'https://www.information.dk/indland/2018/08/hvordan-redder-folkets-skole',\n",
       " 'https://www.information.dk/indland/leder/2018/08/historien-statsminister-lykke-lars',\n",
       " 'https://www.information.dk/udland/2018/08/tysklands-groenne-forener-radikal-klimapolitik-bred-appel-overhaler-afd',\n",
       " 'https://www.information.dk/udland/2018/08/trumps-nye-forsvar-manafort-kan-paavirke-jury',\n",
       " 'https://www.information.dk/udland/2018/08/polens-opposition-leder-magisk-formel-kan-afsaette-populisterne',\n",
       " 'https://www.information.dk/udland/2018/08/kofi-annan-venlig-statsmand-begavet-diplomat',\n",
       " 'https://www.information.dk/udland/2018/08/tunesiske-unge-springer-bare-mor-far',\n",
       " 'https://www.information.dk/kultur/anmeldelse/2018/08/ove-k-pederens-nye-bog-rejser-fundamentale-spoergsmaal-kommer-konkurrencestaten',\n",
       " 'https://www.information.dk/kultur/anmeldelse/2018/08/aldrig-newyorkerne-danset-saa-blidt',\n",
       " 'https://www.information.dk/debat/2018/08/smaa-smaa-begynde-skole',\n",
       " 'https://www.information.dk/debat/2018/08/tyskland-misbruger-juridiske-kneb-saa-slipper-give-migranter-rettigheder',\n",
       " 'https://www.information.dk/debat/2018/08/oploes-politiske-partier-giv-magten-tilbage-folket',\n",
       " 'https://www.information.dk/debat/2018/08/mennesker-handicap-faar-udhulet-levegrundlag-0',\n",
       " 'https://www.information.dk/debat/2018/08/boefafgift-sende-produktion-landet',\n",
       " 'https://www.information.dk/debat/2018/08/koebenhavn-svigter-udsatte',\n",
       " 'https://www.information.dk/debat/2018/08/folk-12',\n",
       " 'https://www.information.dk/debat/leder/2018/08/intet-alternativ-regionerne']"
      ]
     },
     "execution_count": 7,
     "metadata": {},
     "output_type": "execute_result"
    }
   ],
   "source": [
    "sections=['indland','udland','kultur','debat','ledere','litteratur','moderne tider'] #most used sections\n",
    "#be aware that one time used sections as 'omstilling' and 'højsæson' exists - i haven't found a way to search for all possible sections yet\n",
    "\n",
    "from tqdm import tqdm\n",
    "url_sub=[]\n",
    "\n",
    "for x in tqdm(url_il):\n",
    "    response=requests.get(x,headers={'User-Agent':'Mozilla/5.0'})\n",
    "    if response.ok==True:\n",
    "        html = response.text #raw html\n",
    "        html_soup=BeautifulSoup(html,'lxml') #html parsing\n",
    "        for section in sections:\n",
    "            for x in html_soup.findAll('a', attrs={'href': re.compile(\"^/\"+section)}): #finding all hyperlinks that links to subsections\n",
    "                url_sub.append('https://www.information.dk'+x.get('href'))\n",
    "url_sub"
   ]
  },
  {
   "cell_type": "markdown",
   "metadata": {},
   "source": [
    "### Get information and make  DataFrame\n",
    "Incl: remove all articles with 'abonnent'\n",
    "- Return df with section/author, headline, subheadline, text\n",
    "- It is not possible to scrape for section and author seperately. Therefore, when one should split these afterwards. "
   ]
  },
  {
   "cell_type": "code",
   "execution_count": 8,
   "metadata": {},
   "outputs": [
    {
     "data": {
      "text/html": [
       "<div>\n",
       "<style scoped>\n",
       "    .dataframe tbody tr th:only-of-type {\n",
       "        vertical-align: middle;\n",
       "    }\n",
       "\n",
       "    .dataframe tbody tr th {\n",
       "        vertical-align: top;\n",
       "    }\n",
       "\n",
       "    .dataframe thead th {\n",
       "        text-align: right;\n",
       "    }\n",
       "</style>\n",
       "<table border=\"1\" class=\"dataframe\">\n",
       "  <thead>\n",
       "    <tr style=\"text-align: right;\">\n",
       "      <th></th>\n",
       "      <th>Header</th>\n",
       "      <th>Header sub</th>\n",
       "      <th>Section and Author</th>\n",
       "      <th>Text</th>\n",
       "    </tr>\n",
       "  </thead>\n",
       "  <tbody>\n",
       "    <tr>\n",
       "      <th>0</th>\n",
       "      <td>\\n    Tyskland misbruger juridiske kneb, så de...</td>\n",
       "      <td>Nu kan migranter befinde sig på tysk jord uden...</td>\n",
       "      <td>DebatSofie Møller</td>\n",
       "      <td>Tysklands indenrigsminister Horst Seehofer ha...</td>\n",
       "    </tr>\n",
       "    <tr>\n",
       "      <th>1</th>\n",
       "      <td>\\n    Opløs de politiske partier, og giv magte...</td>\n",
       "      <td>Moderne partier kæmper for deres egen overleve...</td>\n",
       "      <td>DebatAsser Amdisen</td>\n",
       "      <td>I disse dage mødes ledelserne af de politiske...</td>\n",
       "    </tr>\n",
       "    <tr>\n",
       "      <th>2</th>\n",
       "      <td>\\n    Mennesker med handicap får udhulet deres...</td>\n",
       "      <td>Udhulingen af overførselsindkomster bør stoppe...</td>\n",
       "      <td>DebatThorkild Olesen</td>\n",
       "      <td>Dansk Folkeparti vil stoppe udhulingen af fol...</td>\n",
       "    </tr>\n",
       "    <tr>\n",
       "      <th>3</th>\n",
       "      <td>\\n    Bøfafgift vil sende produktion ud af lan...</td>\n",
       "      <td>Vi bør ikke indføre kødafgifter. De vil formen...</td>\n",
       "      <td>DebatErling Bonnesen</td>\n",
       "      <td>I Danmark skal vi ikke pålægge afgifter på kø...</td>\n",
       "    </tr>\n",
       "    <tr>\n",
       "      <th>4</th>\n",
       "      <td>\\n    København svigter de udsatte\\n</td>\n",
       "      <td>Hvis København skal være en by for alle, skal ...</td>\n",
       "      <td>DebatMia Nyegaard</td>\n",
       "      <td>Sommeren har indtil videre været fantastisk, ...</td>\n",
       "    </tr>\n",
       "  </tbody>\n",
       "</table>\n",
       "</div>"
      ],
      "text/plain": [
       "                                              Header  \\\n",
       "0  \\n    Tyskland misbruger juridiske kneb, så de...   \n",
       "1  \\n    Opløs de politiske partier, og giv magte...   \n",
       "2  \\n    Mennesker med handicap får udhulet deres...   \n",
       "3  \\n    Bøfafgift vil sende produktion ud af lan...   \n",
       "4             \\n    København svigter de udsatte\\n     \n",
       "\n",
       "                                          Header sub    Section and Author  \\\n",
       "0  Nu kan migranter befinde sig på tysk jord uden...     DebatSofie Møller   \n",
       "1  Moderne partier kæmper for deres egen overleve...    DebatAsser Amdisen   \n",
       "2  Udhulingen af overførselsindkomster bør stoppe...  DebatThorkild Olesen   \n",
       "3  Vi bør ikke indføre kødafgifter. De vil formen...  DebatErling Bonnesen   \n",
       "4  Hvis København skal være en by for alle, skal ...     DebatMia Nyegaard   \n",
       "\n",
       "                                                Text  \n",
       "0   Tysklands indenrigsminister Horst Seehofer ha...  \n",
       "1   I disse dage mødes ledelserne af de politiske...  \n",
       "2   Dansk Folkeparti vil stoppe udhulingen af fol...  \n",
       "3   I Danmark skal vi ikke pålægge afgifter på kø...  \n",
       "4   Sommeren har indtil videre været fantastisk, ...  "
      ]
     },
     "execution_count": 8,
     "metadata": {},
     "output_type": "execute_result"
    }
   ],
   "source": [
    "import requests\n",
    "from bs4 import BeautifulSoup\n",
    "import pandas as pd\n",
    "\n",
    "articles=[]\n",
    "for X in url_sub:\n",
    "    time.sleep(1) #Timer: set this to avoid DOS\n",
    "    html = requests.get(X).text\n",
    "    soup_sub=BeautifulSoup(html,'lxml')\n",
    "    if soup_sub.findAll('div', {'class':\"c-node-premium-marker-title__abonnement\"})==[]:\n",
    "        headline=soup_sub.find('h1').getText() # Get headline\n",
    "        headline_sub=soup_sub.find('div', {'class':'field field-name-field-underrubrik'}).getText() # Get sub headline  \n",
    "        sec_author=soup_sub.find('div', {'class':'group-byline group-byline-desktop field-group-div'}).getText() # Get sub headline  \n",
    "        main_text=soup_sub.find('div', {'class':'field field-name-body'}).getText() # Get main text\n",
    "        articles.append({'Header':headline,'Header sub':headline_sub,'Section and Author':sec_author,'Text':main_text})\n",
    "    else:\n",
    "        continue\n",
    "df=pd.DataFrame(articles) #make dataframe\n",
    "df"
   ]
  },
  {
   "cell_type": "markdown",
   "metadata": {},
   "source": [
    "### Furhter work\n",
    "- Scrape comments in each article\n",
    "- Clean the information (e.g. the \\n in title and divide author and section in one)\n",
    "- Optimize code? We want to write our loops in function, because it will make errors more intuitive (from lecture)\n",
    "\n",
    "### Other data possible to get\n",
    "- Name of Photographer\n",
    "- Education of author\n",
    "- Amount of shares (Can be used as an approximation of how viral the article went)\n",
    "\n",
    "\n"
   ]
  },
  {
   "cell_type": "code",
   "execution_count": 13,
   "metadata": {},
   "outputs": [
    {
     "data": {
      "text/plain": [
       "' I disse dage mødes ledelserne af de politiske partier til sommergruppemøder.\\nEt tema bliver uden tvivl, hvordan partierne skal\\xa0forholde sig til fremtidens demokrati, men i virkeligheden er det helt forfejlet. Partierne kan ikke finde løsningen på demokratiets problemer – de er nemlig selv (et af) demokratiets problemer.\\nInden demokratiet blev indført, var det helt accepteret, at bestemte grupper overtog magten i et samfund. Det kunne være jordejere eller krigere, som kaldte sig en adel og derfor mente, at den havde ret til at bestemme over resten af landets indbyggere.\\nDet kunne være en religiøs kaste, som mente, at deres nærhed til Gud gav dem særlige rettigheder. Fælles for dem var, at medlemskab af grupperne var nok til at få indflydelse.\\nEfter demokratiets indførelse var det et mål for det nye demokrati at afskaffe sådanne privilegerede kaster, men da der ret hurtigt opstod et nyt partivælde, blev systemet genindført af bagvejen.\\nUsund forretning\\nModerne partier er organisationer, som kæmper for egen overlevelse og for privilegier, som partistøtte, spærregrænser og bidrag fra privatpersoner\\xa0og virksomheder.\\nEt succesfuldt parti er et parti, som kan gribe magten og beholde den. Dermed sikres partiet adgang til at kunne opretholde organisationens økonomiske og politiske grundlag. Partierne er blevet til forretninger, hvis produkt er politik, og vælgerne er forbrugere på et marked, som det er partiforretningens opgave at tilpasse sig.\\nDette gøres blandt andet gennem omfattende interne uddannelsesafdelinger, hvor unge idealistiske mennesker formes og forandres, indtil idealismen er forandret til karrierebevidsthed, og ønsket om en bedre verden er blevet underordnet ønsket om en bedre placering i det indre magthierarki, som både er prestigegivende for proselytterne og samtidig vejen til den ønskede position, hvor politikken ikke længere er en interesse, men et levebrød.\\nProblemet i dette er naturligvis, at de personlighedstræk, som er fremmende for partikarrieren, ikke nødvendigvis er de personlighedstræk, vi ønsker hos vore ledere.\\nDisse mennesker, der evner at sætte deres overbevisning til side for at gøre karriere, forstår deres kolleger primært som konkurrenter i et karriereræs, og kan man smudse naboen lidt til, er det jo ingen skade til.\\nIndividuelt kan den enkelte politiker godt være et både idealistisk og sympatisk menneske, men vedkommende kan kun svært undgå\\xa0at blive fanget i en vrangforestilling om egen\\xa0betydning, om partiregimentets nødvendighed –\\xa0og dermed\\xa0af, at indflydelse ikke kan forenes med personlig integritet.\\nEn plads ved bordet kræver blind loyalitet. Partierne bliver uddannelsesmaskiner, der producerer de mindst egnede ledere, som partierne derefter giver monopol på magten.\\nPartierne bestemmer\\nVi har en forestilling om, at det er befolkningen i Danmark, som vælger politikerne, men det er ikke rigtigt. Det er partiforeningerne, der indstiller kandidaterne.\\nDette sker på møder i de lokale partiforeninger, som dog ofte er under pres fra landsorganisationerne for at vælge en bestemt kandidat. Det er altså en meget lille gruppe mennesker, som bestemmer, hvem der kan være på stemmesedlen og få støtte til valgkampen – og dermed hvem befolkningen reelt kan stemme på og vælge.\\nNår Folketingets formand Pia Kjærsgaard angriber partier, som fritstiller medlemmer i følsomme debatter, eller når Henrik Sass Larsen (S) prygler en uartig ordfører tilbage på de bageste bænkerækker, når hun ikke vil følge partilinjen, så burde de faktisk sendes på et danskhedskursus for at læse Grundloven, der siger, at ethvert medlem skal følge sin samvittighed.\\nDenne bid af Grundloven blev i sin tid indsat for at undgå, at virksomheder, klubber, økonomiske interesser eller andre uvedkommende fik større indflydelse på samfundsudviklingen end borgerne. Men moderne partier og partistrukturer føler sig hævet over den slags. Alle skal være lige, men nogen skal åbenbart være mere lige end andre.\\nHvis vi kunne slippe for partierne, kunne den enkelte borgers indflydelse på demokratiet måske blive det centrale og erstatte den markedsplads, hvor karrierefikserede ambitionsmennesker kæmper om magten i organisationer, der ikke længere kæmper for befolkning, ret og retfærdighed, men om vælgerandele, medietid og partitilskud.\\nPartierne er en kræftbyld på demokratiet – og jo før, vi slipper af med dem, jo bedre!\\nAsser Amdisen er cand.mag. i historie og forfatter. Hans nye\\xa0debatbog ’Nu vi taler om demokrati’ udkommer den\\xa025. september.\\n\\nLæs ogsåDet danske demokrati kunne blive langt mere demokratisk\\n\\n\\n\\n \\n\\nFå overblik fra morgenstunden\\nVi sender dig dagens vigtigste artikler fra Information. Et miks af nyheder, debat og det tunge stof.\\n\\n\\n\\n\\nE-mail *\\n\\n\\n\\n\\n\\nLeave this field blank \\n\\n\\n \\n\\n'"
      ]
     },
     "execution_count": 13,
     "metadata": {},
     "output_type": "execute_result"
    }
   ],
   "source": [
    "df['Text'][1]"
   ]
  },
  {
   "cell_type": "code",
   "execution_count": 14,
   "metadata": {},
   "outputs": [
    {
     "ename": "NameError",
     "evalue": "name 'count' is not defined",
     "output_type": "error",
     "traceback": [
      "\u001b[0;31m---------------------------------------------------------------------------\u001b[0m",
      "\u001b[0;31mNameError\u001b[0m                                 Traceback (most recent call last)",
      "\u001b[0;32m<ipython-input-14-386db3d87984>\u001b[0m in \u001b[0;36m<module>\u001b[0;34m()\u001b[0m\n\u001b[0;32m----> 1\u001b[0;31m \u001b[0mcount\u001b[0m\u001b[0;34m(\u001b[0m\u001b[0mdf\u001b[0m\u001b[0;34m[\u001b[0m\u001b[0;34m'Text'\u001b[0m\u001b[0;34m]\u001b[0m\u001b[0;34m[\u001b[0m\u001b[0;36m1\u001b[0m\u001b[0;34m]\u001b[0m\u001b[0;34m)\u001b[0m\u001b[0;34m\u001b[0m\u001b[0m\n\u001b[0m",
      "\u001b[0;31mNameError\u001b[0m: name 'count' is not defined"
     ]
    }
   ],
   "source": [
    "count(df['Text'][1])"
   ]
  },
  {
   "cell_type": "code",
   "execution_count": 15,
   "metadata": {},
   "outputs": [
    {
     "name": "stdout",
     "output_type": "stream",
     "text": [
      "Counter({' ': 685, 'e': 668, 'r': 382, 't': 286, 'n': 285, 'i': 263, 'd': 227, 's': 208, 'a': 206, 'o': 182, 'l': 172, 'g': 147, 'm': 146, 'k': 135, 'v': 88, 'f': 87, 'p': 82, ',': 63, 'b': 62, 'u': 51, '\\n': 45, 'æ': 37, 'h': 35, '.': 34, 'å': 29, 'ø': 28, 'y': 16, 'D': 11, 'j': 10, '\\xa0': 8, 'c': 8, 'P': 7, 'E': 6, 'I': 4, '–': 4, 'G': 3, 'F': 3, 'H': 3, 'L': 3, 'A': 3, '(': 2, ')': 2, 'M': 2, 'V': 2, 'N': 2, 'S': 2, '’': 2, 'U': 1, 'K': 1, '!': 1, '2': 1, '5': 1, '-': 1, '*': 1})\n"
     ]
    }
   ],
   "source": [
    "from collections import Counter\n",
    "counts = Counter(df['Text'][1])\n",
    "print(counts)"
   ]
  },
  {
   "cell_type": "code",
   "execution_count": 18,
   "metadata": {},
   "outputs": [
    {
     "ename": "SyntaxError",
     "evalue": "invalid syntax (<ipython-input-18-34c1b380b03e>, line 7)",
     "output_type": "error",
     "traceback": [
      "\u001b[0;36m  File \u001b[0;32m\"<ipython-input-18-34c1b380b03e>\"\u001b[0;36m, line \u001b[0;32m7\u001b[0m\n\u001b[0;31m    import\u001b[0m\n\u001b[0m          ^\u001b[0m\n\u001b[0;31mSyntaxError\u001b[0m\u001b[0;31m:\u001b[0m invalid syntax\n"
     ]
    }
   ],
   "source": []
  },
  {
   "cell_type": "code",
   "execution_count": null,
   "metadata": {},
   "outputs": [],
   "source": [
    "https://sparenergi.dk/offentlig/vaerktoejer/energi-og-co2-regnskab/aarhus?year=2015"
   ]
  }
 ],
 "metadata": {
  "kernelspec": {
   "display_name": "Python 3",
   "language": "python",
   "name": "python3"
  },
  "language_info": {
   "codemirror_mode": {
    "name": "ipython",
    "version": 3
   },
   "file_extension": ".py",
   "mimetype": "text/x-python",
   "name": "python",
   "nbconvert_exporter": "python",
   "pygments_lexer": "ipython3",
   "version": "3.6.6"
  }
 },
 "nbformat": 4,
 "nbformat_minor": 2
}
